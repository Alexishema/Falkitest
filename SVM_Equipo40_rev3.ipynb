{
 "cells": [
  {
   "cell_type": "markdown",
   "metadata": {
    "id": "VFj0sSM06dYa"
   },
   "source": [
    "#**Maestría en Inteligencia Artificial Aplicada**\n",
    "##**Curso: Inteligencia Artificial y Aprendizaje Automático**\n",
    "###Tecnológico de Monterrey\n",
    "###Prof Luis Eduardo Falcón Morales\n",
    "\n",
    "## **Adtividad de la Semana 8**\n",
    "###**Máquina de Vector Soporte - Support Vector Machine(SVM)**\n"
   ]
  },
  {
   "cell_type": "markdown",
   "metadata": {
    "id": "Qgrvy0RGB9XI"
   },
   "source": [
    "**Nombres y matrículas de los integrantes del equipo:**\n",
    "\n",
    "*   \n",
    "*   \n",
    "*   \n",
    "*   \n",
    "*   \n"
   ]
  },
  {
   "cell_type": "markdown",
   "metadata": {
    "id": "FrJ2ahMODVj1"
   },
   "source": [
    "En cada sección deberás incluir todas las líneas de código necesarias para responder a cada uno de los ejercicios."
   ]
  },
  {
   "cell_type": "code",
   "execution_count": 1,
   "metadata": {
    "id": "exXsscs-Dh-2"
   },
   "outputs": [],
   "source": [
    "# Incluye aquí todos módulos, librerías y paquetes que requieras.\n",
    "# Incluye aquí todos módulos, librerías y paquetes que requieras.\n",
    "\n",
    "import numpy as np\n",
    "import pandas as pd\n",
    "import seaborn as sns\n",
    "\n",
    "from sklearn.model_selection import train_test_split \n",
    "\n",
    "from sklearn.pipeline import Pipeline\n",
    "from sklearn.compose import ColumnTransformer\n",
    "from sklearn.impute import SimpleImputer\n",
    "from sklearn.preprocessing import OneHotEncoder, MinMaxScaler\n",
    "from sklearn.preprocessing import StandardScaler\n",
    "from sklearn.compose import make_column_selector\n",
    "\n",
    "from sklearn.dummy import DummyClassifier \n",
    "\n",
    "from sklearn.dummy import DummyRegressor\n",
    "from sklearn.neural_network import MLPRegressor\n",
    "\n",
    "\n",
    "from sklearn.model_selection import cross_val_score\n",
    "from sklearn.model_selection import  cross_validate,  RepeatedStratifiedKFold \n",
    "\n",
    "from sklearn.linear_model import LogisticRegression\n",
    "from sklearn.tree import DecisionTreeClassifier\n",
    "from sklearn.ensemble import RandomForestClassifier\n",
    "from sklearn.ensemble import RandomForestRegressor\n",
    "\n",
    "from sklearn.metrics import fbeta_score, make_scorer\n",
    "import matplotlib.pyplot as plt\n",
    "\n",
    "from sklearn.model_selection import GridSearchCV\n",
    "from sklearn.inspection import permutation_importance\n",
    "\n",
    "from sklearn.preprocessing import FunctionTransformer\n",
    "from sklearn.preprocessing import power_transform\n",
    "from sklearn.preprocessing import PowerTransformer\n",
    "\n",
    "from sklearn.compose import TransformedTargetRegressor\n",
    "from sklearn.model_selection import RepeatedKFold\n",
    "\n",
    "from sklearn.linear_model import LinearRegression\n",
    "\n",
    "from sklearn.metrics import confusion_matrix\n",
    "from sklearn.metrics import recall_score, precision_score, f1_score\n",
    "from sklearn.metrics import accuracy_score\n",
    "from imblearn.metrics import geometric_mean_score\n",
    "\n",
    "from sklearn import svm\n",
    "\n",
    "from sklearn.model_selection import learning_curve, validation_curve\n",
    "from sklearn.metrics import RocCurveDisplay   \n",
    "from scipy.stats import gmean\n",
    "\n",
    "from numpy import arange #devuelve un objeto ndarray que contiene valores espaciados uniformemente dentro de un intervalo definido\n",
    "from numpy import argmax #devuelve el índice del elemento máximo en una matriz"
   ]
  },
  {
   "cell_type": "markdown",
   "metadata": {
    "id": "X25brD-gQdZM"
   },
   "source": [
    "#**Ejercicio-1.** \n",
    "\n",
    "1. Realiza una partición de los datos con 15% en el conjunto de prueba y el resto para entrenamiento y validación. Usa un random_state=0."
   ]
  },
  {
   "cell_type": "code",
   "execution_count": 2,
   "metadata": {
    "id": "3nU2GuWYCy6C"
   },
   "outputs": [
    {
     "data": {
      "text/html": [
       "<div>\n",
       "<style scoped>\n",
       "    .dataframe tbody tr th:only-of-type {\n",
       "        vertical-align: middle;\n",
       "    }\n",
       "\n",
       "    .dataframe tbody tr th {\n",
       "        vertical-align: top;\n",
       "    }\n",
       "\n",
       "    .dataframe thead th {\n",
       "        text-align: right;\n",
       "    }\n",
       "</style>\n",
       "<table border=\"1\" class=\"dataframe\">\n",
       "  <thead>\n",
       "    <tr style=\"text-align: right;\">\n",
       "      <th></th>\n",
       "      <th>0</th>\n",
       "      <th>1</th>\n",
       "      <th>2</th>\n",
       "      <th>3</th>\n",
       "      <th>4</th>\n",
       "      <th>5</th>\n",
       "      <th>6</th>\n",
       "      <th>7</th>\n",
       "      <th>8</th>\n",
       "      <th>9</th>\n",
       "      <th>10</th>\n",
       "      <th>11</th>\n",
       "      <th>12</th>\n",
       "      <th>13</th>\n",
       "      <th>14</th>\n",
       "    </tr>\n",
       "  </thead>\n",
       "  <tbody>\n",
       "    <tr>\n",
       "      <th>0</th>\n",
       "      <td>1</td>\n",
       "      <td>22.08</td>\n",
       "      <td>11.460</td>\n",
       "      <td>2</td>\n",
       "      <td>4</td>\n",
       "      <td>4</td>\n",
       "      <td>1.585</td>\n",
       "      <td>0</td>\n",
       "      <td>0</td>\n",
       "      <td>0</td>\n",
       "      <td>1</td>\n",
       "      <td>2</td>\n",
       "      <td>100</td>\n",
       "      <td>1213</td>\n",
       "      <td>0</td>\n",
       "    </tr>\n",
       "    <tr>\n",
       "      <th>1</th>\n",
       "      <td>0</td>\n",
       "      <td>22.67</td>\n",
       "      <td>7.000</td>\n",
       "      <td>2</td>\n",
       "      <td>8</td>\n",
       "      <td>4</td>\n",
       "      <td>0.165</td>\n",
       "      <td>0</td>\n",
       "      <td>0</td>\n",
       "      <td>0</td>\n",
       "      <td>0</td>\n",
       "      <td>2</td>\n",
       "      <td>160</td>\n",
       "      <td>1</td>\n",
       "      <td>0</td>\n",
       "    </tr>\n",
       "    <tr>\n",
       "      <th>2</th>\n",
       "      <td>0</td>\n",
       "      <td>29.58</td>\n",
       "      <td>1.750</td>\n",
       "      <td>1</td>\n",
       "      <td>4</td>\n",
       "      <td>4</td>\n",
       "      <td>1.250</td>\n",
       "      <td>0</td>\n",
       "      <td>0</td>\n",
       "      <td>0</td>\n",
       "      <td>1</td>\n",
       "      <td>2</td>\n",
       "      <td>280</td>\n",
       "      <td>1</td>\n",
       "      <td>0</td>\n",
       "    </tr>\n",
       "    <tr>\n",
       "      <th>3</th>\n",
       "      <td>0</td>\n",
       "      <td>21.67</td>\n",
       "      <td>11.500</td>\n",
       "      <td>1</td>\n",
       "      <td>5</td>\n",
       "      <td>3</td>\n",
       "      <td>0.000</td>\n",
       "      <td>1</td>\n",
       "      <td>1</td>\n",
       "      <td>11</td>\n",
       "      <td>1</td>\n",
       "      <td>2</td>\n",
       "      <td>0</td>\n",
       "      <td>1</td>\n",
       "      <td>1</td>\n",
       "    </tr>\n",
       "    <tr>\n",
       "      <th>4</th>\n",
       "      <td>1</td>\n",
       "      <td>20.17</td>\n",
       "      <td>8.170</td>\n",
       "      <td>2</td>\n",
       "      <td>6</td>\n",
       "      <td>4</td>\n",
       "      <td>1.960</td>\n",
       "      <td>1</td>\n",
       "      <td>1</td>\n",
       "      <td>14</td>\n",
       "      <td>0</td>\n",
       "      <td>2</td>\n",
       "      <td>60</td>\n",
       "      <td>159</td>\n",
       "      <td>1</td>\n",
       "    </tr>\n",
       "    <tr>\n",
       "      <th>...</th>\n",
       "      <td>...</td>\n",
       "      <td>...</td>\n",
       "      <td>...</td>\n",
       "      <td>...</td>\n",
       "      <td>...</td>\n",
       "      <td>...</td>\n",
       "      <td>...</td>\n",
       "      <td>...</td>\n",
       "      <td>...</td>\n",
       "      <td>...</td>\n",
       "      <td>...</td>\n",
       "      <td>...</td>\n",
       "      <td>...</td>\n",
       "      <td>...</td>\n",
       "      <td>...</td>\n",
       "    </tr>\n",
       "    <tr>\n",
       "      <th>685</th>\n",
       "      <td>1</td>\n",
       "      <td>31.57</td>\n",
       "      <td>10.500</td>\n",
       "      <td>2</td>\n",
       "      <td>14</td>\n",
       "      <td>4</td>\n",
       "      <td>6.500</td>\n",
       "      <td>1</td>\n",
       "      <td>0</td>\n",
       "      <td>0</td>\n",
       "      <td>0</td>\n",
       "      <td>2</td>\n",
       "      <td>0</td>\n",
       "      <td>1</td>\n",
       "      <td>1</td>\n",
       "    </tr>\n",
       "    <tr>\n",
       "      <th>686</th>\n",
       "      <td>1</td>\n",
       "      <td>20.67</td>\n",
       "      <td>0.415</td>\n",
       "      <td>2</td>\n",
       "      <td>8</td>\n",
       "      <td>4</td>\n",
       "      <td>0.125</td>\n",
       "      <td>0</td>\n",
       "      <td>0</td>\n",
       "      <td>0</td>\n",
       "      <td>0</td>\n",
       "      <td>2</td>\n",
       "      <td>0</td>\n",
       "      <td>45</td>\n",
       "      <td>0</td>\n",
       "    </tr>\n",
       "    <tr>\n",
       "      <th>687</th>\n",
       "      <td>0</td>\n",
       "      <td>18.83</td>\n",
       "      <td>9.540</td>\n",
       "      <td>2</td>\n",
       "      <td>6</td>\n",
       "      <td>4</td>\n",
       "      <td>0.085</td>\n",
       "      <td>1</td>\n",
       "      <td>0</td>\n",
       "      <td>0</td>\n",
       "      <td>0</td>\n",
       "      <td>2</td>\n",
       "      <td>100</td>\n",
       "      <td>1</td>\n",
       "      <td>1</td>\n",
       "    </tr>\n",
       "    <tr>\n",
       "      <th>688</th>\n",
       "      <td>0</td>\n",
       "      <td>27.42</td>\n",
       "      <td>14.500</td>\n",
       "      <td>2</td>\n",
       "      <td>14</td>\n",
       "      <td>8</td>\n",
       "      <td>3.085</td>\n",
       "      <td>1</td>\n",
       "      <td>1</td>\n",
       "      <td>1</td>\n",
       "      <td>0</td>\n",
       "      <td>2</td>\n",
       "      <td>120</td>\n",
       "      <td>12</td>\n",
       "      <td>1</td>\n",
       "    </tr>\n",
       "    <tr>\n",
       "      <th>689</th>\n",
       "      <td>1</td>\n",
       "      <td>41.00</td>\n",
       "      <td>0.040</td>\n",
       "      <td>2</td>\n",
       "      <td>10</td>\n",
       "      <td>4</td>\n",
       "      <td>0.040</td>\n",
       "      <td>0</td>\n",
       "      <td>1</td>\n",
       "      <td>1</td>\n",
       "      <td>0</td>\n",
       "      <td>1</td>\n",
       "      <td>560</td>\n",
       "      <td>1</td>\n",
       "      <td>1</td>\n",
       "    </tr>\n",
       "  </tbody>\n",
       "</table>\n",
       "<p>690 rows × 15 columns</p>\n",
       "</div>"
      ],
      "text/plain": [
       "     0      1       2   3   4   5      6   7   8   9   10  11   12    13  14\n",
       "0     1  22.08  11.460   2   4   4  1.585   0   0   0   1   2  100  1213   0\n",
       "1     0  22.67   7.000   2   8   4  0.165   0   0   0   0   2  160     1   0\n",
       "2     0  29.58   1.750   1   4   4  1.250   0   0   0   1   2  280     1   0\n",
       "3     0  21.67  11.500   1   5   3  0.000   1   1  11   1   2    0     1   1\n",
       "4     1  20.17   8.170   2   6   4  1.960   1   1  14   0   2   60   159   1\n",
       "..   ..    ...     ...  ..  ..  ..    ...  ..  ..  ..  ..  ..  ...   ...  ..\n",
       "685   1  31.57  10.500   2  14   4  6.500   1   0   0   0   2    0     1   1\n",
       "686   1  20.67   0.415   2   8   4  0.125   0   0   0   0   2    0    45   0\n",
       "687   0  18.83   9.540   2   6   4  0.085   1   0   0   0   2  100     1   1\n",
       "688   0  27.42  14.500   2  14   8  3.085   1   1   1   0   2  120    12   1\n",
       "689   1  41.00   0.040   2  10   4  0.040   0   1   1   0   1  560     1   1\n",
       "\n",
       "[690 rows x 15 columns]"
      ]
     },
     "execution_count": 2,
     "metadata": {},
     "output_type": "execute_result"
    }
   ],
   "source": [
    "# Se hace la importación de la data\n",
    "\n",
    "df = pd.read_table(\"https://archive.ics.uci.edu/ml/machine-learning-databases/statlog/australian/australian.dat\",\n",
    "                   sep=' ',index_col=None,header=None)\n",
    "df"
   ]
  },
  {
   "cell_type": "code",
   "execution_count": 3,
   "metadata": {
    "id": "0ulkqXVGCy97"
   },
   "outputs": [
    {
     "data": {
      "text/html": [
       "<div>\n",
       "<style scoped>\n",
       "    .dataframe tbody tr th:only-of-type {\n",
       "        vertical-align: middle;\n",
       "    }\n",
       "\n",
       "    .dataframe tbody tr th {\n",
       "        vertical-align: top;\n",
       "    }\n",
       "\n",
       "    .dataframe thead th {\n",
       "        text-align: right;\n",
       "    }\n",
       "</style>\n",
       "<table border=\"1\" class=\"dataframe\">\n",
       "  <thead>\n",
       "    <tr style=\"text-align: right;\">\n",
       "      <th></th>\n",
       "      <th>A1</th>\n",
       "      <th>A2</th>\n",
       "      <th>A3</th>\n",
       "      <th>A4</th>\n",
       "      <th>A5</th>\n",
       "      <th>A6</th>\n",
       "      <th>A7</th>\n",
       "      <th>A8</th>\n",
       "      <th>A9</th>\n",
       "      <th>A10</th>\n",
       "      <th>A11</th>\n",
       "      <th>A12</th>\n",
       "      <th>A13</th>\n",
       "      <th>A14</th>\n",
       "      <th>A15</th>\n",
       "    </tr>\n",
       "  </thead>\n",
       "  <tbody>\n",
       "    <tr>\n",
       "      <th>0</th>\n",
       "      <td>1</td>\n",
       "      <td>22.08</td>\n",
       "      <td>11.460</td>\n",
       "      <td>2</td>\n",
       "      <td>4</td>\n",
       "      <td>4</td>\n",
       "      <td>1.585</td>\n",
       "      <td>0</td>\n",
       "      <td>0</td>\n",
       "      <td>0</td>\n",
       "      <td>1</td>\n",
       "      <td>2</td>\n",
       "      <td>100</td>\n",
       "      <td>1213</td>\n",
       "      <td>0</td>\n",
       "    </tr>\n",
       "    <tr>\n",
       "      <th>1</th>\n",
       "      <td>0</td>\n",
       "      <td>22.67</td>\n",
       "      <td>7.000</td>\n",
       "      <td>2</td>\n",
       "      <td>8</td>\n",
       "      <td>4</td>\n",
       "      <td>0.165</td>\n",
       "      <td>0</td>\n",
       "      <td>0</td>\n",
       "      <td>0</td>\n",
       "      <td>0</td>\n",
       "      <td>2</td>\n",
       "      <td>160</td>\n",
       "      <td>1</td>\n",
       "      <td>0</td>\n",
       "    </tr>\n",
       "    <tr>\n",
       "      <th>2</th>\n",
       "      <td>0</td>\n",
       "      <td>29.58</td>\n",
       "      <td>1.750</td>\n",
       "      <td>1</td>\n",
       "      <td>4</td>\n",
       "      <td>4</td>\n",
       "      <td>1.250</td>\n",
       "      <td>0</td>\n",
       "      <td>0</td>\n",
       "      <td>0</td>\n",
       "      <td>1</td>\n",
       "      <td>2</td>\n",
       "      <td>280</td>\n",
       "      <td>1</td>\n",
       "      <td>0</td>\n",
       "    </tr>\n",
       "    <tr>\n",
       "      <th>3</th>\n",
       "      <td>0</td>\n",
       "      <td>21.67</td>\n",
       "      <td>11.500</td>\n",
       "      <td>1</td>\n",
       "      <td>5</td>\n",
       "      <td>3</td>\n",
       "      <td>0.000</td>\n",
       "      <td>1</td>\n",
       "      <td>1</td>\n",
       "      <td>11</td>\n",
       "      <td>1</td>\n",
       "      <td>2</td>\n",
       "      <td>0</td>\n",
       "      <td>1</td>\n",
       "      <td>1</td>\n",
       "    </tr>\n",
       "    <tr>\n",
       "      <th>4</th>\n",
       "      <td>1</td>\n",
       "      <td>20.17</td>\n",
       "      <td>8.170</td>\n",
       "      <td>2</td>\n",
       "      <td>6</td>\n",
       "      <td>4</td>\n",
       "      <td>1.960</td>\n",
       "      <td>1</td>\n",
       "      <td>1</td>\n",
       "      <td>14</td>\n",
       "      <td>0</td>\n",
       "      <td>2</td>\n",
       "      <td>60</td>\n",
       "      <td>159</td>\n",
       "      <td>1</td>\n",
       "    </tr>\n",
       "    <tr>\n",
       "      <th>...</th>\n",
       "      <td>...</td>\n",
       "      <td>...</td>\n",
       "      <td>...</td>\n",
       "      <td>...</td>\n",
       "      <td>...</td>\n",
       "      <td>...</td>\n",
       "      <td>...</td>\n",
       "      <td>...</td>\n",
       "      <td>...</td>\n",
       "      <td>...</td>\n",
       "      <td>...</td>\n",
       "      <td>...</td>\n",
       "      <td>...</td>\n",
       "      <td>...</td>\n",
       "      <td>...</td>\n",
       "    </tr>\n",
       "    <tr>\n",
       "      <th>685</th>\n",
       "      <td>1</td>\n",
       "      <td>31.57</td>\n",
       "      <td>10.500</td>\n",
       "      <td>2</td>\n",
       "      <td>14</td>\n",
       "      <td>4</td>\n",
       "      <td>6.500</td>\n",
       "      <td>1</td>\n",
       "      <td>0</td>\n",
       "      <td>0</td>\n",
       "      <td>0</td>\n",
       "      <td>2</td>\n",
       "      <td>0</td>\n",
       "      <td>1</td>\n",
       "      <td>1</td>\n",
       "    </tr>\n",
       "    <tr>\n",
       "      <th>686</th>\n",
       "      <td>1</td>\n",
       "      <td>20.67</td>\n",
       "      <td>0.415</td>\n",
       "      <td>2</td>\n",
       "      <td>8</td>\n",
       "      <td>4</td>\n",
       "      <td>0.125</td>\n",
       "      <td>0</td>\n",
       "      <td>0</td>\n",
       "      <td>0</td>\n",
       "      <td>0</td>\n",
       "      <td>2</td>\n",
       "      <td>0</td>\n",
       "      <td>45</td>\n",
       "      <td>0</td>\n",
       "    </tr>\n",
       "    <tr>\n",
       "      <th>687</th>\n",
       "      <td>0</td>\n",
       "      <td>18.83</td>\n",
       "      <td>9.540</td>\n",
       "      <td>2</td>\n",
       "      <td>6</td>\n",
       "      <td>4</td>\n",
       "      <td>0.085</td>\n",
       "      <td>1</td>\n",
       "      <td>0</td>\n",
       "      <td>0</td>\n",
       "      <td>0</td>\n",
       "      <td>2</td>\n",
       "      <td>100</td>\n",
       "      <td>1</td>\n",
       "      <td>1</td>\n",
       "    </tr>\n",
       "    <tr>\n",
       "      <th>688</th>\n",
       "      <td>0</td>\n",
       "      <td>27.42</td>\n",
       "      <td>14.500</td>\n",
       "      <td>2</td>\n",
       "      <td>14</td>\n",
       "      <td>8</td>\n",
       "      <td>3.085</td>\n",
       "      <td>1</td>\n",
       "      <td>1</td>\n",
       "      <td>1</td>\n",
       "      <td>0</td>\n",
       "      <td>2</td>\n",
       "      <td>120</td>\n",
       "      <td>12</td>\n",
       "      <td>1</td>\n",
       "    </tr>\n",
       "    <tr>\n",
       "      <th>689</th>\n",
       "      <td>1</td>\n",
       "      <td>41.00</td>\n",
       "      <td>0.040</td>\n",
       "      <td>2</td>\n",
       "      <td>10</td>\n",
       "      <td>4</td>\n",
       "      <td>0.040</td>\n",
       "      <td>0</td>\n",
       "      <td>1</td>\n",
       "      <td>1</td>\n",
       "      <td>0</td>\n",
       "      <td>1</td>\n",
       "      <td>560</td>\n",
       "      <td>1</td>\n",
       "      <td>1</td>\n",
       "    </tr>\n",
       "  </tbody>\n",
       "</table>\n",
       "<p>690 rows × 15 columns</p>\n",
       "</div>"
      ],
      "text/plain": [
       "     A1     A2      A3  A4  A5  A6     A7  A8  A9  A10  A11  A12  A13   A14  \\\n",
       "0     1  22.08  11.460   2   4   4  1.585   0   0    0    1    2  100  1213   \n",
       "1     0  22.67   7.000   2   8   4  0.165   0   0    0    0    2  160     1   \n",
       "2     0  29.58   1.750   1   4   4  1.250   0   0    0    1    2  280     1   \n",
       "3     0  21.67  11.500   1   5   3  0.000   1   1   11    1    2    0     1   \n",
       "4     1  20.17   8.170   2   6   4  1.960   1   1   14    0    2   60   159   \n",
       "..   ..    ...     ...  ..  ..  ..    ...  ..  ..  ...  ...  ...  ...   ...   \n",
       "685   1  31.57  10.500   2  14   4  6.500   1   0    0    0    2    0     1   \n",
       "686   1  20.67   0.415   2   8   4  0.125   0   0    0    0    2    0    45   \n",
       "687   0  18.83   9.540   2   6   4  0.085   1   0    0    0    2  100     1   \n",
       "688   0  27.42  14.500   2  14   8  3.085   1   1    1    0    2  120    12   \n",
       "689   1  41.00   0.040   2  10   4  0.040   0   1    1    0    1  560     1   \n",
       "\n",
       "     A15  \n",
       "0      0  \n",
       "1      0  \n",
       "2      0  \n",
       "3      1  \n",
       "4      1  \n",
       "..   ...  \n",
       "685    1  \n",
       "686    0  \n",
       "687    1  \n",
       "688    1  \n",
       "689    1  \n",
       "\n",
       "[690 rows x 15 columns]"
      ]
     },
     "execution_count": 3,
     "metadata": {},
     "output_type": "execute_result"
    }
   ],
   "source": [
    "# Se asigna el nombre correspondiente a cada una de las columnas\n",
    "\n",
    "columnas = {0:'A1',1:'A2',2:'A3',3:'A4',4:'A5',5:'A6',6:'A7',7:'A8',\n",
    "            8:'A9',9:'A10',10:'A11',11:'A12',12:'A13',13:'A14',14:'A15'}\n",
    "\n",
    "df.rename(columns=columnas,inplace=True)\n",
    "\n",
    "df"
   ]
  },
  {
   "cell_type": "markdown",
   "metadata": {},
   "source": [
    "**Análisis de las variables**\n",
    "\n",
    "    A1:\t0,1    CATEGORICAL (a,b originalmente)\n",
    "    \n",
    "    A2:\tCONTINUA\n",
    "    \n",
    "    A3:\tCONTINUA\n",
    "    \n",
    "    A4:\t1,2,3  CATEGORICAL (p,g,gg originalmente)\n",
    "    \n",
    "    A5:  1, 2,3,4,5, 6,7,8,9,10,11,12,13,14    CATEGORICAL (ff,d,i,k,j,aa,m,c,w, e, q, r,cc, x  originalmente)\n",
    "         \n",
    "    A6:\t 1, 2,3, 4,5,6,7,8,9    CATEGORICAL (ff,dd,j,bb,v,n,o,h,z  originalmente)\n",
    "\n",
    "    A7:\tCONTINUA\n",
    "    \n",
    "    A8:\t1, 0    CATEGORICAL (t, f. originalmente)\n",
    "       \n",
    "    A9: 1, 0\t    CATEGORICAL (t, f. originalmente)\n",
    "      \n",
    "    A10: CONTINUA\n",
    "    \n",
    "    A11:  1, 0\t    CATEGORICAL (t, f. originalmente)\n",
    "         \n",
    "    A12:    1, 2, 3    CATEGORICAL (s,g,p originalmente)\n",
    "          \n",
    "    A13: CONTINUA\n",
    "    \n",
    "    A14: CONTINUA\n",
    "    \n",
    "    A15:   1,2 (1 positivos, 2 negativos) SALIDA\n",
    "        "
   ]
  },
  {
   "cell_type": "code",
   "execution_count": 4,
   "metadata": {},
   "outputs": [
    {
     "data": {
      "text/html": [
       "<div>\n",
       "<style scoped>\n",
       "    .dataframe tbody tr th:only-of-type {\n",
       "        vertical-align: middle;\n",
       "    }\n",
       "\n",
       "    .dataframe tbody tr th {\n",
       "        vertical-align: top;\n",
       "    }\n",
       "\n",
       "    .dataframe thead th {\n",
       "        text-align: right;\n",
       "    }\n",
       "</style>\n",
       "<table border=\"1\" class=\"dataframe\">\n",
       "  <thead>\n",
       "    <tr style=\"text-align: right;\">\n",
       "      <th></th>\n",
       "      <th>A1</th>\n",
       "      <th>A2</th>\n",
       "      <th>A3</th>\n",
       "      <th>A4</th>\n",
       "      <th>A5</th>\n",
       "      <th>A6</th>\n",
       "      <th>A7</th>\n",
       "      <th>A8</th>\n",
       "      <th>A9</th>\n",
       "      <th>A10</th>\n",
       "      <th>A11</th>\n",
       "      <th>A12</th>\n",
       "      <th>A13</th>\n",
       "      <th>A14</th>\n",
       "    </tr>\n",
       "  </thead>\n",
       "  <tbody>\n",
       "    <tr>\n",
       "      <th>0</th>\n",
       "      <td>1</td>\n",
       "      <td>22.08</td>\n",
       "      <td>11.460</td>\n",
       "      <td>2</td>\n",
       "      <td>4</td>\n",
       "      <td>4</td>\n",
       "      <td>1.585</td>\n",
       "      <td>0</td>\n",
       "      <td>0</td>\n",
       "      <td>0</td>\n",
       "      <td>1</td>\n",
       "      <td>2</td>\n",
       "      <td>100</td>\n",
       "      <td>1213</td>\n",
       "    </tr>\n",
       "    <tr>\n",
       "      <th>1</th>\n",
       "      <td>0</td>\n",
       "      <td>22.67</td>\n",
       "      <td>7.000</td>\n",
       "      <td>2</td>\n",
       "      <td>8</td>\n",
       "      <td>4</td>\n",
       "      <td>0.165</td>\n",
       "      <td>0</td>\n",
       "      <td>0</td>\n",
       "      <td>0</td>\n",
       "      <td>0</td>\n",
       "      <td>2</td>\n",
       "      <td>160</td>\n",
       "      <td>1</td>\n",
       "    </tr>\n",
       "    <tr>\n",
       "      <th>2</th>\n",
       "      <td>0</td>\n",
       "      <td>29.58</td>\n",
       "      <td>1.750</td>\n",
       "      <td>1</td>\n",
       "      <td>4</td>\n",
       "      <td>4</td>\n",
       "      <td>1.250</td>\n",
       "      <td>0</td>\n",
       "      <td>0</td>\n",
       "      <td>0</td>\n",
       "      <td>1</td>\n",
       "      <td>2</td>\n",
       "      <td>280</td>\n",
       "      <td>1</td>\n",
       "    </tr>\n",
       "    <tr>\n",
       "      <th>3</th>\n",
       "      <td>0</td>\n",
       "      <td>21.67</td>\n",
       "      <td>11.500</td>\n",
       "      <td>1</td>\n",
       "      <td>5</td>\n",
       "      <td>3</td>\n",
       "      <td>0.000</td>\n",
       "      <td>1</td>\n",
       "      <td>1</td>\n",
       "      <td>11</td>\n",
       "      <td>1</td>\n",
       "      <td>2</td>\n",
       "      <td>0</td>\n",
       "      <td>1</td>\n",
       "    </tr>\n",
       "    <tr>\n",
       "      <th>4</th>\n",
       "      <td>1</td>\n",
       "      <td>20.17</td>\n",
       "      <td>8.170</td>\n",
       "      <td>2</td>\n",
       "      <td>6</td>\n",
       "      <td>4</td>\n",
       "      <td>1.960</td>\n",
       "      <td>1</td>\n",
       "      <td>1</td>\n",
       "      <td>14</td>\n",
       "      <td>0</td>\n",
       "      <td>2</td>\n",
       "      <td>60</td>\n",
       "      <td>159</td>\n",
       "    </tr>\n",
       "    <tr>\n",
       "      <th>...</th>\n",
       "      <td>...</td>\n",
       "      <td>...</td>\n",
       "      <td>...</td>\n",
       "      <td>...</td>\n",
       "      <td>...</td>\n",
       "      <td>...</td>\n",
       "      <td>...</td>\n",
       "      <td>...</td>\n",
       "      <td>...</td>\n",
       "      <td>...</td>\n",
       "      <td>...</td>\n",
       "      <td>...</td>\n",
       "      <td>...</td>\n",
       "      <td>...</td>\n",
       "    </tr>\n",
       "    <tr>\n",
       "      <th>685</th>\n",
       "      <td>1</td>\n",
       "      <td>31.57</td>\n",
       "      <td>10.500</td>\n",
       "      <td>2</td>\n",
       "      <td>14</td>\n",
       "      <td>4</td>\n",
       "      <td>6.500</td>\n",
       "      <td>1</td>\n",
       "      <td>0</td>\n",
       "      <td>0</td>\n",
       "      <td>0</td>\n",
       "      <td>2</td>\n",
       "      <td>0</td>\n",
       "      <td>1</td>\n",
       "    </tr>\n",
       "    <tr>\n",
       "      <th>686</th>\n",
       "      <td>1</td>\n",
       "      <td>20.67</td>\n",
       "      <td>0.415</td>\n",
       "      <td>2</td>\n",
       "      <td>8</td>\n",
       "      <td>4</td>\n",
       "      <td>0.125</td>\n",
       "      <td>0</td>\n",
       "      <td>0</td>\n",
       "      <td>0</td>\n",
       "      <td>0</td>\n",
       "      <td>2</td>\n",
       "      <td>0</td>\n",
       "      <td>45</td>\n",
       "    </tr>\n",
       "    <tr>\n",
       "      <th>687</th>\n",
       "      <td>0</td>\n",
       "      <td>18.83</td>\n",
       "      <td>9.540</td>\n",
       "      <td>2</td>\n",
       "      <td>6</td>\n",
       "      <td>4</td>\n",
       "      <td>0.085</td>\n",
       "      <td>1</td>\n",
       "      <td>0</td>\n",
       "      <td>0</td>\n",
       "      <td>0</td>\n",
       "      <td>2</td>\n",
       "      <td>100</td>\n",
       "      <td>1</td>\n",
       "    </tr>\n",
       "    <tr>\n",
       "      <th>688</th>\n",
       "      <td>0</td>\n",
       "      <td>27.42</td>\n",
       "      <td>14.500</td>\n",
       "      <td>2</td>\n",
       "      <td>14</td>\n",
       "      <td>8</td>\n",
       "      <td>3.085</td>\n",
       "      <td>1</td>\n",
       "      <td>1</td>\n",
       "      <td>1</td>\n",
       "      <td>0</td>\n",
       "      <td>2</td>\n",
       "      <td>120</td>\n",
       "      <td>12</td>\n",
       "    </tr>\n",
       "    <tr>\n",
       "      <th>689</th>\n",
       "      <td>1</td>\n",
       "      <td>41.00</td>\n",
       "      <td>0.040</td>\n",
       "      <td>2</td>\n",
       "      <td>10</td>\n",
       "      <td>4</td>\n",
       "      <td>0.040</td>\n",
       "      <td>0</td>\n",
       "      <td>1</td>\n",
       "      <td>1</td>\n",
       "      <td>0</td>\n",
       "      <td>1</td>\n",
       "      <td>560</td>\n",
       "      <td>1</td>\n",
       "    </tr>\n",
       "  </tbody>\n",
       "</table>\n",
       "<p>690 rows × 14 columns</p>\n",
       "</div>"
      ],
      "text/plain": [
       "     A1     A2      A3  A4  A5  A6     A7  A8  A9  A10  A11  A12  A13   A14\n",
       "0     1  22.08  11.460   2   4   4  1.585   0   0    0    1    2  100  1213\n",
       "1     0  22.67   7.000   2   8   4  0.165   0   0    0    0    2  160     1\n",
       "2     0  29.58   1.750   1   4   4  1.250   0   0    0    1    2  280     1\n",
       "3     0  21.67  11.500   1   5   3  0.000   1   1   11    1    2    0     1\n",
       "4     1  20.17   8.170   2   6   4  1.960   1   1   14    0    2   60   159\n",
       "..   ..    ...     ...  ..  ..  ..    ...  ..  ..  ...  ...  ...  ...   ...\n",
       "685   1  31.57  10.500   2  14   4  6.500   1   0    0    0    2    0     1\n",
       "686   1  20.67   0.415   2   8   4  0.125   0   0    0    0    2    0    45\n",
       "687   0  18.83   9.540   2   6   4  0.085   1   0    0    0    2  100     1\n",
       "688   0  27.42  14.500   2  14   8  3.085   1   1    1    0    2  120    12\n",
       "689   1  41.00   0.040   2  10   4  0.040   0   1    1    0    1  560     1\n",
       "\n",
       "[690 rows x 14 columns]"
      ]
     },
     "execution_count": 4,
     "metadata": {},
     "output_type": "execute_result"
    }
   ],
   "source": [
    "# Se asignan las variables de entrada y de salida\n",
    "\n",
    "Y = df['A15']\n",
    "variables_entrada = df[['A1','A2','A3','A4','A5','A6','A7','A8','A9','A10','A11','A12','A13','A14']]\n",
    "\n",
    "X = variables_entrada.copy()\n",
    "X"
   ]
  },
  {
   "cell_type": "code",
   "execution_count": 5,
   "metadata": {},
   "outputs": [
    {
     "name": "stdout",
     "output_type": "stream",
     "text": [
      "Tamaño del conjunto de entrenamiento: (586, 14)\n",
      "Tamaño del conjunto de prueba (104, 14)\n",
      "Tamaño del conjunto de entrenamiento: (586,)\n",
      "Tamaño del conjunto de prueba (104,)\n"
     ]
    }
   ],
   "source": [
    "# Se hace la partición solicitada con 15% de prueba\n",
    "\n",
    "Xtrain, Xtest, Ytrain, Ytest = train_test_split(X, Y, test_size=.15, shuffle=True, random_state=0)\n",
    "\n",
    "print('Tamaño del conjunto de entrenamiento:', Xtrain.shape)\n",
    "print('Tamaño del conjunto de prueba', Xtest.shape)\n",
    "\n",
    "print('Tamaño del conjunto de entrenamiento:', Ytrain.shape)\n",
    "print('Tamaño del conjunto de prueba', Ytest.shape)"
   ]
  },
  {
   "cell_type": "code",
   "execution_count": 6,
   "metadata": {},
   "outputs": [
    {
     "name": "stdout",
     "output_type": "stream",
     "text": [
      "A1\n",
      "False    690\n",
      "Name: A1, dtype: int64\n",
      "\n",
      "A2\n",
      "False    690\n",
      "Name: A2, dtype: int64\n",
      "\n",
      "A3\n",
      "False    690\n",
      "Name: A3, dtype: int64\n",
      "\n",
      "A4\n",
      "False    690\n",
      "Name: A4, dtype: int64\n",
      "\n",
      "A5\n",
      "False    690\n",
      "Name: A5, dtype: int64\n",
      "\n",
      "A6\n",
      "False    690\n",
      "Name: A6, dtype: int64\n",
      "\n",
      "A7\n",
      "False    690\n",
      "Name: A7, dtype: int64\n",
      "\n",
      "A8\n",
      "False    690\n",
      "Name: A8, dtype: int64\n",
      "\n",
      "A9\n",
      "False    690\n",
      "Name: A9, dtype: int64\n",
      "\n",
      "A10\n",
      "False    690\n",
      "Name: A10, dtype: int64\n",
      "\n",
      "A11\n",
      "False    690\n",
      "Name: A11, dtype: int64\n",
      "\n",
      "A12\n",
      "False    690\n",
      "Name: A12, dtype: int64\n",
      "\n",
      "A13\n",
      "False    690\n",
      "Name: A13, dtype: int64\n",
      "\n",
      "A14\n",
      "False    690\n",
      "Name: A14, dtype: int64\n",
      "\n",
      "A15\n",
      "False    690\n",
      "Name: A15, dtype: int64\n",
      "\n"
     ]
    }
   ],
   "source": [
    "# Se comprueba que no haya valores nulos\n",
    "\n",
    "sindata = df.isnull()\n",
    "for column in sindata.columns.values.tolist():\n",
    "    print(column)\n",
    "    print (sindata[column].value_counts())\n",
    "    print(\"\")  "
   ]
  },
  {
   "cell_type": "markdown",
   "metadata": {
    "id": "xZhr2hkECzVv"
   },
   "source": [
    "#**Ejercicio-2.**\n",
    "\n",
    "2. Hacer una análisis de los datos y llevar a cabo las transformaciones que consideres adecuadas. Utiliza un Pipeline para evitar el filtrado de información."
   ]
  },
  {
   "cell_type": "code",
   "execution_count": 7,
   "metadata": {
    "id": "kGfAoOPkC1PP"
   },
   "outputs": [],
   "source": [
    "# Se procede a crear el Pipe para reemplazar los valores faltantes y escalar\n",
    "\n",
    "# Transformaciones a factores numéricos de entrada:\n",
    "df_num_pipeline = Pipeline(steps = [('impModa', SimpleImputer(strategy='most_frequent')), \n",
    "                                 ('escalaNum', MinMaxScaler(feature_range=(1,2)))])  \n",
    "df_num_pipeline_nombres = ['A2','A3','A7','A10','A13','A14']\n",
    "\n",
    "# Transformaciones a factor tipo categórico\n",
    "df_cat_pipeline = Pipeline(steps = [('escalaNum', MinMaxScaler(feature_range=(1,2)))]) \n",
    "df_cat_pipeline_nombres = ['A1','A4','A5','A6','A8','A9','A11','A12']\n",
    "\n",
    "\n",
    "\n",
    "CT = ColumnTransformer(transformers = [('df_numericas_pipe', df_num_pipeline, df_num_pipeline_nombres),\n",
    "                                      ('df_categoricas_pipe', df_cat_pipeline, df_cat_pipeline_nombres),\n",
    "                                      ])"
   ]
  },
  {
   "cell_type": "markdown",
   "metadata": {
    "id": "NCunuooTC2W3"
   },
   "source": [
    "#**Ejercicio-3.**\n",
    "\n",
    "3. Utiliza la función Dummy para modelos de clasificación con la estrategia “stratified” con el conjunto que tienes de datos de entrenamiento y validación. Obtener los valores de partida (baseline) de las siguientes métricas: accuracy, f1-score, precision y recall. ¿Por qué consideras que es adecuado usar la estrategia “stratified” en este caso?"
   ]
  },
  {
   "cell_type": "code",
   "execution_count": 8,
   "metadata": {
    "id": "YXlcSWA-C4Dj"
   },
   "outputs": [
    {
     "name": "stdout",
     "output_type": "stream",
     "text": [
      "El valor de f1 para prueba es: 0.44897959183673475\n",
      "El valor de f1 para entrenamiento es: 0.44705882352941173 \n",
      "\n",
      "El valor de recall para prueba es: 0.4782608695652174\n",
      "El valor de recall para entrenamiento es: 0.4367816091954023 \n",
      "\n",
      "El valor de precision para prueba es: 0.4230769230769231\n",
      "El valor de precision para entrenamiento es: 0.4578313253012048 \n",
      "\n",
      "El valor de accuracy para prueba es: 0.4807692307692308\n",
      "El valor de accuracy para entrenamiento es: 0.5187713310580204 \n",
      "\n"
     ]
    }
   ],
   "source": [
    "modeloDummy = DummyClassifier(strategy='stratified')    # Inicializamos el modelo Dummy con el crierio de \n",
    "                                                           # predecir siempre con el valor de la clase de mayor frecuencia. \n",
    "\n",
    "modeloDummy.fit(Xtrain, Ytrain)       # entrenamos con los conjuntos de entrenamiento\n",
    "\n",
    "Yhat = modeloDummy.predict(Xtest) \n",
    "Yhat2 = modeloDummy.predict(Xtrain) \n",
    "\n",
    "print(\"El valor de f1 para prueba es:\",f1_score(Ytest,Yhat))\n",
    "print(\"El valor de f1 para entrenamiento es:\",f1_score(Ytrain,Yhat2),'\\n')\n",
    "\n",
    "print(\"El valor de recall para prueba es:\",recall_score(Ytest,Yhat))\n",
    "print(\"El valor de recall para entrenamiento es:\",recall_score(Ytrain,Yhat2),'\\n')\n",
    "\n",
    "print(\"El valor de precision para prueba es:\",precision_score(Ytest,Yhat))\n",
    "print(\"El valor de precision para entrenamiento es:\",precision_score(Ytrain,Yhat2),'\\n')\n",
    "\n",
    "print(\"El valor de accuracy para prueba es:\",accuracy_score(Ytest,Yhat))\n",
    "print(\"El valor de accuracy para entrenamiento es:\",accuracy_score(Ytrain,Yhat2),'\\n')"
   ]
  },
  {
   "cell_type": "markdown",
   "metadata": {
    "id": "chqk9jIDC5Pq"
   },
   "source": [
    "#**Ejercicio-4.**\n",
    "\n",
    "4. Usando el modelo de máquina de vector soporte (SVM) encuentra sus mejores hiperparámetros con una búsqueda de malla y validación cruzada, desplegando los errores indicados en el ejercicio anterior.\n"
   ]
  },
  {
   "cell_type": "code",
   "execution_count": 9,
   "metadata": {
    "id": "RBVSFwK4C6g9"
   },
   "outputs": [],
   "source": [
    "def get_models():\n",
    "  modelos = list()\n",
    "  nombres = list()\n",
    "\n",
    "  # LR - Regresión Logística:\n",
    "  modelos.append(svm.SVC())\n",
    "  nombres.append('SVC')\n",
    "\n",
    "\n",
    "  return modelos, nombres"
   ]
  },
  {
   "cell_type": "code",
   "execution_count": 10,
   "metadata": {
    "id": "7KXnlNzAC69Y"
   },
   "outputs": [],
   "source": [
    "def do_grid_search(modela, X, y, cv, dicc_grid, scoring = 'accuracy'):\n",
    "    \n",
    "  \n",
    "        grid_pipe = Pipeline(steps = [\n",
    "            ('CT', CT),\n",
    "            ('modela', modela)\n",
    "            ])\n",
    "        \n",
    "      \n",
    "        #Creamos el grid\n",
    "        grid = GridSearchCV(\n",
    "            estimator= grid_pipe, cv=cv,\n",
    "            param_grid=dicc_grid, scoring=scoring, n_jobs=-1)\n",
    "\n",
    "\n",
    "        grid.fit(X, y.values.ravel())\n",
    "\n",
    "        #Imprimimos resultados\n",
    "        print('Mejor valor de exactitud obtenido con la mejor combinación:', grid.best_score_)\n",
    "        print('Mejor combinación de valores encontrados de los hiperparámetros:', grid.best_params_)\n",
    "        print('Métrica utilizada:', grid.scoring)\n",
    "\n",
    "        return grid"
   ]
  },
  {
   "cell_type": "code",
   "execution_count": 32,
   "metadata": {},
   "outputs": [
    {
     "name": "stdout",
     "output_type": "stream",
     "text": [
      "Mejor valor de exactitud obtenido con la mejor combinación: 0.8594947380661666\n",
      "Mejor combinación de valores encontrados de los hiperparámetros: {'modela__C': 10, 'modela__gamma': 0.01, 'modela__kernel': 'poly'}\n",
      "Métrica utilizada: make_scorer(accuracy_score)\n"
     ]
    }
   ],
   "source": [
    "modelos, nombres = get_models() \n",
    "Kfold = RepeatedKFold(n_splits=3, n_repeats=3,random_state=0)\n",
    "\n",
    "dicc_grid = {\"modela__kernel\":['linear', 'poly', 'rbf', 'sigmoid'],\n",
    "             \"modela__C\": [0.1,1,10,100,1000], \n",
    "             \"modela__gamma\":[0.001,0.01,0.1,1,10,100]}\n",
    "\n",
    "grid_SVC = do_grid_search(modelos[0], Xtrain, Ytrain, Kfold, dicc_grid, \n",
    "                          make_scorer(accuracy_score))"
   ]
  },
  {
   "cell_type": "code",
   "execution_count": 12,
   "metadata": {},
   "outputs": [
    {
     "name": "stdout",
     "output_type": "stream",
     "text": [
      "El valor de f1 para prueba es: 0.8695652173913043\n",
      "El valor de f1 para entrenamiento es: 0.8501742160278746 \n",
      "\n",
      "El valor de recall para prueba es: 0.8695652173913043\n",
      "El valor de recall para entrenamiento es: 0.9348659003831418 \n",
      "\n",
      "El valor de precision para prueba es: 0.8695652173913043\n",
      "El valor de precision para entrenamiento es: 0.7795527156549521 \n",
      "\n",
      "El valor de accuracy para prueba es: 0.8846153846153846\n",
      "El valor de accuracy para entrenamiento es: 0.8532423208191127 \n",
      "\n"
     ]
    }
   ],
   "source": [
    "# Definimos el modelo a utilizar, con los mejores parámetros encontrados arriba\n",
    "# Con el parámetro probability = True aplicamos validación cruzada\n",
    "\n",
    "model = svm.SVC(kernel=grid_SVC.best_params_.get('modela__kernel'),    \n",
    "                C=grid_SVC.best_params_.get('modela__C'),\n",
    "                gamma=grid_SVC.best_params_.get('modela__gamma'),\n",
    "                probability=True\n",
    "                )       \n",
    "\n",
    "# Escalamos los datos de Xtrain y Xtest para que el modelo no tarde mucho tiempo\n",
    "\n",
    "Xtrain_Fit= CT.fit(Xtrain)\n",
    "XtrainTransf= Xtrain_Fit.transform(Xtrain)\n",
    "\n",
    "X_test_Fit= CT.fit(Xtest)\n",
    "XtestTransf= X_test_Fit.transform(Xtest)\n",
    "\n",
    "\n",
    "# Entrenamos el modelo y después obtenemos los valores de predicción, tanto para Train como para Test\n",
    "model.fit(XtrainTransf, Ytrain)\n",
    "\n",
    "\n",
    "Yhat_SVC = model.predict(XtestTransf) \n",
    "Yhat2_SVC = model.predict(XtrainTransf) \n",
    "cm = confusion_matrix(Ytest, Yhat_SVC) \n",
    "\n",
    "\n",
    "\n",
    "print(\"El valor de f1 para prueba es:\",f1_score(Ytest,Yhat_SVC))\n",
    "print(\"El valor de f1 para entrenamiento es:\",f1_score(Ytrain,Yhat2_SVC),'\\n')\n",
    "\n",
    "print(\"El valor de recall para prueba es:\",recall_score(Ytest,Yhat_SVC))\n",
    "print(\"El valor de recall para entrenamiento es:\",recall_score(Ytrain,Yhat2_SVC),'\\n')\n",
    "\n",
    "print(\"El valor de precision para prueba es:\",precision_score(Ytest,Yhat_SVC))\n",
    "print(\"El valor de precision para entrenamiento es:\",precision_score(Ytrain,Yhat2_SVC),'\\n')\n",
    "\n",
    "print(\"El valor de accuracy para prueba es:\",accuracy_score(Ytest,Yhat_SVC))\n",
    "print(\"El valor de accuracy para entrenamiento es:\",accuracy_score(Ytrain,Yhat2_SVC),'\\n')"
   ]
  },
  {
   "cell_type": "markdown",
   "metadata": {},
   "source": [
    "\n",
    "nombresMetricas=()\n",
    "nombresMetricas.append('F1_score')\n",
    "nombresMetricas.append('Recall_score')\n",
    "nombresMetricas.append('Precision_score')\n",
    "nombresMetricas.append('Accuracy_score')\n",
    "\n",
    "resultadosTrain=list()\n",
    "resultadosTrain.append(f1_score(Ytrain,Yhat2_SVC))\n",
    "resultadosTrain.append(recall_score(Ytrain,Yhat2_SVC))\n",
    "resultadosTrain.append(precision_score(Ytrain,Yhat2_SVC))\n",
    "resultadosTrain.append(accuracy_score(Ytrain,Yhat2_SVC))\n",
    "\n",
    "resultadosTest=list()\n",
    "resultadosTest.append(f1_score(Ytest,Yhat_SVC))\n",
    "resultadosTest.append(recall_score(Ytest,Yhat_SVC))\n",
    "resultadosTest.append(precision_score(Ytest,Yhat_SVC))\n",
    "resultadosTest.append(accuracy_score(Ytest,Yhat_SVC))"
   ]
  },
  {
   "cell_type": "markdown",
   "metadata": {
    "id": "Rv7KFq-mC7PS"
   },
   "source": [
    "#**Ejercicio-5.**\n",
    "\n",
    "5. Obtener además los diagramas de caja y bigote del mejor modelo con todas las métricas calculadas. Incluye tus conclusiones."
   ]
  },
  {
   "cell_type": "code",
   "execution_count": 13,
   "metadata": {
    "id": "4tQxQROVC9Us"
   },
   "outputs": [],
   "source": [
    "def diagramas(metricas):\n",
    "    sumt=list()\n",
    "    diagrama=metricas\n",
    "    sumt.append(diagrama)\n",
    "    return sumt"
   ]
  },
  {
   "cell_type": "code",
   "execution_count": 14,
   "metadata": {},
   "outputs": [],
   "source": [
    "nombresMetricas=list()\n",
    "nombresMetricas.append('F1')\n",
    "nombresMetricas.append('Recall')\n",
    "nombresMetricas.append('Precision')\n",
    "nombresMetricas.append('Accuracy')"
   ]
  },
  {
   "cell_type": "code",
   "execution_count": 15,
   "metadata": {},
   "outputs": [],
   "source": [
    "resultadosTest=list()\n",
    "resultadosTest.append(diagramas(f1_score(Ytest,Yhat_SVC)))\n",
    "resultadosTest.append(diagramas(recall_score(Ytest,Yhat_SVC)))\n",
    "resultadosTest.append(diagramas(precision_score(Ytest,Yhat_SVC)))\n",
    "resultadosTest.append(diagramas(accuracy_score(Ytest,Yhat_SVC)))\n",
    "\n",
    "resultadosTrain=list()\n",
    "resultadosTrain.append(diagramas(f1_score(Ytrain,Yhat2_SVC)))\n",
    "resultadosTrain.append(diagramas(recall_score(Ytrain,Yhat2_SVC)))\n",
    "resultadosTrain.append(diagramas(precision_score(Ytrain,Yhat2_SVC)))\n",
    "resultadosTrain.append(diagramas(accuracy_score(Ytrain,Yhat2_SVC)))\n",
    "\n",
    "\n"
   ]
  },
  {
   "cell_type": "code",
   "execution_count": 34,
   "metadata": {},
   "outputs": [
    {
     "data": {
      "image/png": "[encoded data removed]",
      "text/plain": [
       "<Figure size 432x288 with 1 Axes>"
      ]
     },
     "metadata": {
      "needs_background": "light"
     },
     "output_type": "display_data"
    }
   ],
   "source": [
    "plt.boxplot(resultadosTest, labels=nombresMetricas, showmeans=False)\n",
    "plt.show()\n"
   ]
  },
  {
   "cell_type": "code",
   "execution_count": 35,
   "metadata": {},
   "outputs": [
    {
     "data": {
      "image/png": "[encoded data removed]",
      "text/plain": [
       "<Figure size 432x288 with 1 Axes>"
      ]
     },
     "metadata": {
      "needs_background": "light"
     },
     "output_type": "display_data"
    }
   ],
   "source": [
    "plt.boxplot(resultadosTrain, labels=nombresMetricas, showmeans=False)\n",
    "plt.show()\n"
   ]
  },
  {
   "cell_type": "markdown",
   "metadata": {
    "id": "W2S7LI0NC9wE"
   },
   "source": [
    "#**Ejercicio-6.**\n",
    "\n",
    "6. Verifica que el modelo no esté subentrenado o sobreentrenado mediante alguna de las gráficas de curvas de entrenamiento (aumentando la complejidad o aumentando el conjunto de entrenamiento, la que consideres más adecuada). De ser necesario, realiza los ajustes necesarios para evitar alguno de estos problemas."
   ]
  },
  {
   "cell_type": "code",
   "execution_count": 18,
   "metadata": {
    "id": "x6uBleJUC_AU"
   },
   "outputs": [],
   "source": [
    "def mi_ModeloYCurvas(Xin,score):\n",
    "       # Usemos primeramente el modelo de regresión logística\n",
    "       # con sus parámetros predeterminados y semilla igual a 1.\n",
    "       # Incremenetamos además el máximo de iteraciones para \n",
    "       # asegurar la convergencia de cada partición de la VC.\n",
    "\n",
    "       modelo = model\n",
    "\n",
    "       ########################################################################\n",
    "       # INICIA LA SECCIÓN PARA AGREGAR CÓDIGO.\n",
    "       # Ejercicio 2\n",
    "       # Sustituye \"None\" por el código que se te indica.\n",
    "\n",
    "     \n",
    "       # Ejercicio 2.1: Define el pipeline como se te indicó:\n",
    "       # Se espera una línea de código.\n",
    "\n",
    "       mi_pipe = Pipeline(steps = [\n",
    "            ('CT', CT),\n",
    "            ('model', model)\n",
    "            ])\n",
    "\n",
    "\n",
    "       # Ejercicio 2.2: Aplica validación cruzada estratificada y con repeticiones.\n",
    "       #                Solo define los tres argumentos que se te indicaron.\n",
    "       # Se espera una línea de código.\n",
    "\n",
    "       mi_kfold = RepeatedStratifiedKFold(n_splits=5, n_repeats=3,random_state=0)\n",
    "\n",
    "\n",
    "       # Ejercicio 2.3: Genera un arreglo con los 40 valores de los tamaños de muestra:\n",
    "       # Se espera una línea de código.\n",
    "       \n",
    "       delta_train_sz = np.linspace(0.1, 1.0, num=40)\n",
    "\n",
    "\n",
    "       # Ejercicio 2.4:: Incluye los argumentos que se te indican a la \n",
    "       # función learning_curve. Solo sustituye \"None\" por el valor del\n",
    "       # argumento adecuado en cada caso.\n",
    "\n",
    "       tr_sizes, tr_scores, val_scores = learning_curve(estimator = mi_pipe ,    \n",
    "                                                        X = Xin,\n",
    "                                                        y = Ytrain,\n",
    "                                                        cv = mi_kfold ,\n",
    "                                                        train_sizes = delta_train_sz ,\n",
    "                                                        random_state=0,\n",
    "                                                        scoring=score)\n",
    "       \n",
    "       # TERMINA LA SECCIÓN PARA AGREGAR CÓDIGO.\n",
    "       ######################################################################\n",
    "\n",
    "\n",
    "       # Obtenemos el gráfico con las curvas de aprendizaje:\n",
    "       z=mi_LearningCurvePlot(tr_sizes, tr_scores, val_scores,score)\n",
    "       return z "
   ]
  },
  {
   "cell_type": "code",
   "execution_count": 19,
   "metadata": {
    "id": "n0P_AcyjC_Dh"
   },
   "outputs": [],
   "source": [
    "def mi_LearningCurvePlot(train_sizes, train_scores, val_scores,score):\n",
    "\n",
    "    train_mean = np.mean(train_scores, axis=1)\n",
    "    train_std = np.std(train_scores, axis=1)\n",
    "    val_mean = np.mean(val_scores, axis=1)\n",
    "    val_std = np.std(val_scores, axis=1)\n",
    "\n",
    "    # Graficamos las curvas de aprendizaje incluyendo una región indicando la desviación estándar.\n",
    "    plt.figure(figsize=(7,6))\n",
    "    plt.plot(train_sizes, train_mean, color='blue', marker='o', markersize=5, label='Training')\n",
    "    plt.fill_between(train_sizes, train_mean + train_std, train_mean - train_std, alpha=0.1, color='blue')\n",
    "    \n",
    "    plt.plot(train_sizes, val_mean, color='red', marker='+', markersize=5, linestyle='--', label='Validation')\n",
    "    plt.fill_between(train_sizes, val_mean + val_std, val_mean - val_std, alpha=0.1, color='red')\n",
    "    \n",
    "    plt.title('Curvas de Aprendizaje incrementando el tamaño de la muestra')\n",
    "    plt.xlabel('Tamaño del conjunto de entrenamiento')\n",
    "    plt.ylabel('Exactitud (accuracy)')\n",
    "    plt.grid()\n",
    "    plt.legend(loc='lower left')\n",
    "    plt.show()\n",
    "\n",
    "    return train_mean\n",
    "\n"
   ]
  },
  {
   "cell_type": "code",
   "execution_count": 20,
   "metadata": {
    "scrolled": false
   },
   "outputs": [
    {
     "name": "stdout",
     "output_type": "stream",
     "text": [
      "Curvas de aprendizaje del modelo SVM con accuracy:\n"
     ]
    },
    {
     "data": {
      "image/png": "[encoded data removed]",
      "text/plain": [
       "<Figure size 504x432 with 1 Axes>"
      ]
     },
     "metadata": {
      "needs_background": "light"
     },
     "output_type": "display_data"
    },
    {
     "name": "stdout",
     "output_type": "stream",
     "text": [
      "Curvas de aprendizaje del modelo SVM con f1:\n"
     ]
    },
    {
     "data": {
      "image/png": "[encoded data removed]",
      "text/plain": [
       "<Figure size 504x432 with 1 Axes>"
      ]
     },
     "metadata": {
      "needs_background": "light"
     },
     "output_type": "display_data"
    },
    {
     "name": "stdout",
     "output_type": "stream",
     "text": [
      "Curvas de aprendizaje del modelo SVM con recall:\n"
     ]
    },
    {
     "data": {
      "image/png": "[encoded data removed]",
      "text/plain": [
       "<Figure size 504x432 with 1 Axes>"
      ]
     },
     "metadata": {
      "needs_background": "light"
     },
     "output_type": "display_data"
    },
    {
     "name": "stdout",
     "output_type": "stream",
     "text": [
      "Curvas de aprendizaje del modelo SVM con precision:\n"
     ]
    },
    {
     "data": {
      "image/png": "[encoded data removed]",
      "text/plain": [
       "<Figure size 504x432 with 1 Axes>"
      ]
     },
     "metadata": {
      "needs_background": "light"
     },
     "output_type": "display_data"
    }
   ],
   "source": [
    "boxplotlist=list()\n",
    "print('Curvas de aprendizaje del modelo SVM con accuracy:')\n",
    "a=mi_ModeloYCurvas(Xtrain,make_scorer(accuracy_score))\n",
    "boxplotlist.append(a)\n",
    "print('Curvas de aprendizaje del modelo SVM con f1:')\n",
    "b=mi_ModeloYCurvas(Xtrain,make_scorer(f1_score))\n",
    "boxplotlist.append(b)\n",
    "print('Curvas de aprendizaje del modelo SVM con recall:')\n",
    "c=mi_ModeloYCurvas(Xtrain,make_scorer(recall_score))\n",
    "boxplotlist.append(c)\n",
    "print('Curvas de aprendizaje del modelo SVM con precision:')\n",
    "d=mi_ModeloYCurvas(Xtrain,make_scorer(precision_score))\n",
    "boxplotlist.append(d)"
   ]
  },
  {
   "cell_type": "code",
   "execution_count": 33,
   "metadata": {
    "id": "F1aW0dQX8BLL"
   },
   "outputs": [
    {
     "data": {
      "image/png": "[encoded data removed]",
      "text/plain": [
       "<Figure size 432x288 with 1 Axes>"
      ]
     },
     "metadata": {
      "needs_background": "light"
     },
     "output_type": "display_data"
    }
   ],
   "source": [
    "\n",
    "plt.boxplot(boxplotlist, labels=['Accuracy','F1','Recall','Precision'], showmeans=True)\n",
    "plt.show()\n"
   ]
  },
  {
   "cell_type": "markdown",
   "metadata": {
    "id": "iCNGx4TQ8CFI"
   },
   "source": [
    "#**Ejercicio-7.**\n",
    "\n",
    "7. Con los mejores hiperparámetros entontrados encontrar la gráfica de la curva ROC y su área bajo la curva."
   ]
  },
  {
   "cell_type": "code",
   "execution_count": 22,
   "metadata": {},
   "outputs": [
    {
     "data": {
      "image/png": "[encoded data removed]",
      "text/plain": [
       "<Figure size 432x288 with 1 Axes>"
      ]
     },
     "metadata": {
      "needs_background": "light"
     },
     "output_type": "display_data"
    }
   ],
   "source": [
    "TPrate = cm[1,1]/(cm[1,0]+cm[1,1])\n",
    "FPrate = cm[0,1]/(cm[0,0]+cm[0,1])\n",
    "\n",
    "RocCurveDisplay.from_estimator(model, XtestTransf, Ytest)\n",
    "plt.plot([0,0,1,0],[0,1,1,0], 'y--')\n",
    "plt.hlines(TPrate, 0, FPrate, colors='r', linestyles='dotted')  \n",
    "plt.vlines(FPrate, 0, TPrate, colors='r', linestyles='dotted')  \n",
    "plt.show()   "
   ]
  },
  {
   "cell_type": "markdown",
   "metadata": {
    "id": "tzQn5NR78GFg"
   },
   "source": [
    "#**Ejercicio-8.**\n",
    "\n",
    "8. Encontrar el valor del mejor umbral de predicción del modelo que maximice el valor de la métrica f1-score."
   ]
  },
  {
   "cell_type": "code",
   "execution_count": 36,
   "metadata": {
    "id": "EBKcp0278IQV"
   },
   "outputs": [
    {
     "name": "stdout",
     "output_type": "stream",
     "text": [
      "Mejor valor de exactitud obtenido con la mejor combinación: 0.8533129366876705\n",
      "Mejor combinación de valores encontrados de los hiperparámetros: {'modela__C': 10, 'modela__gamma': 0.01, 'modela__kernel': 'poly'}\n",
      "Métrica utilizada: make_scorer(f1_score)\n"
     ]
    }
   ],
   "source": [
    "\n",
    "grid_SVC2 = do_grid_search(modelos[0], Xtrain, Ytrain, Kfold, dicc_grid, \n",
    "                          make_scorer(f1_score))"
   ]
  },
  {
   "cell_type": "code",
   "execution_count": 37,
   "metadata": {},
   "outputs": [],
   "source": [
    "def to_labels(pos_probs, threshold):\n",
    "\treturn (pos_probs >= threshold).astype('int')"
   ]
  },
  {
   "cell_type": "code",
   "execution_count": 38,
   "metadata": {},
   "outputs": [],
   "source": [
    "#Se hace la predicción\n",
    "yhat_THR = model.predict_proba(XtestTransf)\n",
    "#Maniente las probabilidades de la parte positiva\n",
    "probs = yhat_THR[:, 1]\n",
    "#Se definen los Thresholds (valores que van de 0-1)\n",
    "thresholds = arange(0, 1, 0.001)\n",
    "# evaluate each threshold"
   ]
  },
  {
   "cell_type": "code",
   "execution_count": 39,
   "metadata": {},
   "outputs": [
    {
     "name": "stdout",
     "output_type": "stream",
     "text": [
      "Threshold=0.153, F-Score=0.86957\n"
     ]
    }
   ],
   "source": [
    "#Función para calcular el umbral con la métrica F1-Score\n",
    "scoreFS = [f1_score(Ytest, to_labels(probs, t)) for t in thresholds]\n",
    "#Se obtiene el mejor umbral\n",
    "ix = argmax(scoreFS)\n",
    "print('Threshold=%.3f, F-Score=%.5f' % (thresholds[ix], scoreFS[ix]))"
   ]
  },
  {
   "cell_type": "code",
   "execution_count": null,
   "metadata": {
    "id": "vp8S0PFs8IMR"
   },
   "outputs": [],
   "source": []
  },
  {
   "cell_type": "markdown",
   "metadata": {
    "id": "mASNrZWs8JTh"
   },
   "source": [
    "#**Ejercicio-9.**\n",
    "\n",
    "9. Encontrar el valor del mejor umbral de predicción del modelo que maximice el valor de la métrica g- mean."
   ]
  },
  {
   "cell_type": "code",
   "execution_count": 40,
   "metadata": {
    "id": "X6HJP9hb8LCp"
   },
   "outputs": [
    {
     "name": "stdout",
     "output_type": "stream",
     "text": [
      "Mejor valor de exactitud obtenido con la mejor combinación: 0.8636085398681631\n",
      "Mejor combinación de valores encontrados de los hiperparámetros: {'modela__C': 10, 'modela__gamma': 0.01, 'modela__kernel': 'poly'}\n",
      "Métrica utilizada: make_scorer(geometric_mean_score)\n"
     ]
    }
   ],
   "source": [
    "\n",
    "grid_SVC3 = do_grid_search(modelos[0], Xtrain, Ytrain, Kfold, dicc_grid, \n",
    "                          make_scorer(geometric_mean_score))"
   ]
  },
  {
   "cell_type": "code",
   "execution_count": 41,
   "metadata": {
    "id": "Xr6oe1VF8K_A"
   },
   "outputs": [
    {
     "name": "stdout",
     "output_type": "stream",
     "text": [
      "Threshold=0.153, Gmean=0.88296\n"
     ]
    }
   ],
   "source": [
    "#Función para calcular el umbral con la métrica G-mean\n",
    "scoreGM = [geometric_mean_score(Ytest, to_labels(probs, t)) for t in thresholds]\n",
    "#Se obtiene el mejor umbral\n",
    "ix = argmax(scoreGM)\n",
    "print('Threshold=%.3f, Gmean=%.5f' % (thresholds[ix], scoreGM[ix]))"
   ]
  },
  {
   "cell_type": "markdown",
   "metadata": {
    "id": "VUIcDshs8MzG"
   },
   "source": [
    "#**Ejercicio-10.**"
   ]
  },
  {
   "cell_type": "markdown",
   "metadata": {
    "id": "0lKNJNIt8N88"
   },
   "source": [
    "CONCLUSIONES"
   ]
  },
  {
   "cell_type": "code",
   "execution_count": null,
   "metadata": {
    "id": "Inkq5YQe8PED"
   },
   "outputs": [],
   "source": []
  },
  {
   "cell_type": "markdown",
   "metadata": {
    "id": "7ql_r2G-DB_m"
   },
   "source": [
    "###**Fin de la Actividad de la semana 8.**"
   ]
  }
 ],
 "metadata": {
  "colab": {
   "collapsed_sections": [],
   "provenance": []
  },
  "kernelspec": {
   "display_name": "Python 3 (ipykernel)",
   "language": "python",
   "name": "python3"
  },
  "language_info": {
   "codemirror_mode": {
    "name": "ipython",
    "version": 3
   },
   "file_extension": ".py",
   "mimetype": "text/x-python",
   "name": "python",
   "nbconvert_exporter": "python",
   "pygments_lexer": "ipython3",
   "version": "3.10.5"
  }
 },
 "nbformat": 4,
 "nbformat_minor": 1
}
