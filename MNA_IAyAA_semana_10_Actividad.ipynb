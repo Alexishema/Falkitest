{
 "cells": [
  {
   "cell_type": "markdown",
   "metadata": {
    "id": "VFj0sSM06dYa"
   },
   "source": [
    "#**Maestría en Inteligencia Artificial Aplicada**\n",
    "##**Curso: Inteligencia Artificial y Aprendizaje Automático**\n",
    "###Tecnológico de Monterrey\n",
    "###Prof Luis Eduardo Falcón Morales\n",
    "\n",
    "## **Adtividad de la Semana 10**\n",
    "###**Reducción de Dimensionalidad - Descomposición en Valores Singulares (SVD) y Sistemas de Recomendación**\n"
   ]
  },
  {
   "cell_type": "markdown",
   "metadata": {
    "id": "Qgrvy0RGB9XI"
   },
   "source": [
    "**Nombres y matrículas de los integrantes del equipo:**\n",
    "\n",
    "*   \n",
    "*   \n",
    "*   \n",
    "*   \n",
    "*   \n"
   ]
  },
  {
   "cell_type": "markdown",
   "metadata": {
    "id": "FrJ2ahMODVj1"
   },
   "source": [
    "En cada sección deberás incluir todas las líneas de código necesarias para responder a cada uno de los ejercicios."
   ]
  },
  {
   "cell_type": "code",
   "execution_count": 1,
   "metadata": {
    "id": "exXsscs-Dh-2"
   },
   "outputs": [],
   "source": [
    "import numpy as np\n",
    "import pandas as pd\n",
    "\n",
    "from sklearn.decomposition import TruncatedSVD\n"
   ]
  },
  {
   "cell_type": "markdown",
   "metadata": {
    "id": "X25brD-gQdZM"
   },
   "source": [
    "#**Ejercicio-1.** \n",
    "\n",
    "1. Descarga los archivos y genera la matriz de utilidad en la cual los renglones son los usuarios (user_ID), las columnas los nombres de los restaurantes (name) y las entradas la evaluaciones generales dadas por los usuarios (rating). En particular indica el tamaño de dicha matriz y despliega sus primeros 10 renglones."
   ]
  },
  {
   "cell_type": "code",
   "execution_count": 3,
   "metadata": {
    "id": "3nU2GuWYCy6C"
   },
   "outputs": [],
   "source": [
    "url1='/Users/alexishema/Downloads/RCdata/geoplaces2.csv'\n",
    "url2='/Users/alexishema/Downloads/RCdata/rating_final.csv'"
   ]
  },
  {
   "cell_type": "code",
   "execution_count": 9,
   "metadata": {
    "id": "0ulkqXVGCy97"
   },
   "outputs": [],
   "source": [
    "geo = pd.read_csv(url1,  sep=\",\",encoding='latin-1')  \n",
    "ratings = pd.read_csv(url2,  sep=\",\",encoding='latin-1') \n"
   ]
  },
  {
   "cell_type": "code",
   "execution_count": 16,
   "metadata": {},
   "outputs": [
    {
     "name": "stdout",
     "output_type": "stream",
     "text": [
      "<class 'pandas.core.frame.DataFrame'>\n",
      "RangeIndex: 1161 entries, 0 to 1160\n",
      "Data columns (total 5 columns):\n",
      " #   Column          Non-Null Count  Dtype \n",
      "---  ------          --------------  ----- \n",
      " 0   userID          1161 non-null   object\n",
      " 1   placeID         1161 non-null   int64 \n",
      " 2   rating          1161 non-null   int64 \n",
      " 3   food_rating     1161 non-null   int64 \n",
      " 4   service_rating  1161 non-null   int64 \n",
      "dtypes: int64(4), object(1)\n",
      "memory usage: 45.5+ KB\n"
     ]
    }
   ],
   "source": [
    "ratings.info()"
   ]
  },
  {
   "cell_type": "code",
   "execution_count": 11,
   "metadata": {},
   "outputs": [
    {
     "name": "stdout",
     "output_type": "stream",
     "text": [
      "<class 'pandas.core.frame.DataFrame'>\n",
      "RangeIndex: 130 entries, 0 to 129\n",
      "Data columns (total 21 columns):\n",
      " #   Column          Non-Null Count  Dtype  \n",
      "---  ------          --------------  -----  \n",
      " 0   placeID         130 non-null    int64  \n",
      " 1   latitude        130 non-null    float64\n",
      " 2   longitude       130 non-null    float64\n",
      " 3   the_geom_meter  130 non-null    object \n",
      " 4   name            130 non-null    object \n",
      " 5   address         130 non-null    object \n",
      " 6   city            130 non-null    object \n",
      " 7   state           130 non-null    object \n",
      " 8   country         130 non-null    object \n",
      " 9   fax             130 non-null    object \n",
      " 10  zip             130 non-null    object \n",
      " 11  alcohol         130 non-null    object \n",
      " 12  smoking_area    130 non-null    object \n",
      " 13  dress_code      130 non-null    object \n",
      " 14  accessibility   130 non-null    object \n",
      " 15  price           130 non-null    object \n",
      " 16  url             130 non-null    object \n",
      " 17  Rambience       130 non-null    object \n",
      " 18  franchise       130 non-null    object \n",
      " 19  area            130 non-null    object \n",
      " 20  other_services  130 non-null    object \n",
      "dtypes: float64(2), int64(1), object(18)\n",
      "memory usage: 21.5+ KB\n"
     ]
    }
   ],
   "source": [
    "geo.info()"
   ]
  },
  {
   "cell_type": "code",
   "execution_count": 19,
   "metadata": {},
   "outputs": [],
   "source": [
    "matriz_ratings_grl = ratings[[ 'userID','rating','placeID']] \n",
    "matriz_geo_grl = geo[['name', 'placeID']] \n",
    "\n"
   ]
  },
  {
   "cell_type": "code",
   "execution_count": 20,
   "metadata": {},
   "outputs": [
    {
     "data": {
      "text/html": [
       "<div>\n",
       "<style scoped>\n",
       "    .dataframe tbody tr th:only-of-type {\n",
       "        vertical-align: middle;\n",
       "    }\n",
       "\n",
       "    .dataframe tbody tr th {\n",
       "        vertical-align: top;\n",
       "    }\n",
       "\n",
       "    .dataframe thead th {\n",
       "        text-align: right;\n",
       "    }\n",
       "</style>\n",
       "<table border=\"1\" class=\"dataframe\">\n",
       "  <thead>\n",
       "    <tr style=\"text-align: right;\">\n",
       "      <th></th>\n",
       "      <th>userID</th>\n",
       "      <th>rating</th>\n",
       "      <th>placeID</th>\n",
       "    </tr>\n",
       "  </thead>\n",
       "  <tbody>\n",
       "    <tr>\n",
       "      <th>0</th>\n",
       "      <td>U1077</td>\n",
       "      <td>2</td>\n",
       "      <td>135085</td>\n",
       "    </tr>\n",
       "    <tr>\n",
       "      <th>1</th>\n",
       "      <td>U1077</td>\n",
       "      <td>2</td>\n",
       "      <td>135038</td>\n",
       "    </tr>\n",
       "    <tr>\n",
       "      <th>2</th>\n",
       "      <td>U1077</td>\n",
       "      <td>2</td>\n",
       "      <td>132825</td>\n",
       "    </tr>\n",
       "    <tr>\n",
       "      <th>3</th>\n",
       "      <td>U1077</td>\n",
       "      <td>1</td>\n",
       "      <td>135060</td>\n",
       "    </tr>\n",
       "    <tr>\n",
       "      <th>4</th>\n",
       "      <td>U1068</td>\n",
       "      <td>1</td>\n",
       "      <td>135104</td>\n",
       "    </tr>\n",
       "    <tr>\n",
       "      <th>...</th>\n",
       "      <td>...</td>\n",
       "      <td>...</td>\n",
       "      <td>...</td>\n",
       "    </tr>\n",
       "    <tr>\n",
       "      <th>1156</th>\n",
       "      <td>U1043</td>\n",
       "      <td>1</td>\n",
       "      <td>132630</td>\n",
       "    </tr>\n",
       "    <tr>\n",
       "      <th>1157</th>\n",
       "      <td>U1011</td>\n",
       "      <td>1</td>\n",
       "      <td>132715</td>\n",
       "    </tr>\n",
       "    <tr>\n",
       "      <th>1158</th>\n",
       "      <td>U1068</td>\n",
       "      <td>1</td>\n",
       "      <td>132733</td>\n",
       "    </tr>\n",
       "    <tr>\n",
       "      <th>1159</th>\n",
       "      <td>U1068</td>\n",
       "      <td>1</td>\n",
       "      <td>132594</td>\n",
       "    </tr>\n",
       "    <tr>\n",
       "      <th>1160</th>\n",
       "      <td>U1068</td>\n",
       "      <td>0</td>\n",
       "      <td>132660</td>\n",
       "    </tr>\n",
       "  </tbody>\n",
       "</table>\n",
       "<p>1161 rows × 3 columns</p>\n",
       "</div>"
      ],
      "text/plain": [
       "     userID  rating  placeID\n",
       "0     U1077       2   135085\n",
       "1     U1077       2   135038\n",
       "2     U1077       2   132825\n",
       "3     U1077       1   135060\n",
       "4     U1068       1   135104\n",
       "...     ...     ...      ...\n",
       "1156  U1043       1   132630\n",
       "1157  U1011       1   132715\n",
       "1158  U1068       1   132733\n",
       "1159  U1068       1   132594\n",
       "1160  U1068       0   132660\n",
       "\n",
       "[1161 rows x 3 columns]"
      ]
     },
     "execution_count": 20,
     "metadata": {},
     "output_type": "execute_result"
    }
   ],
   "source": [
    "matriz_ratings_grl"
   ]
  },
  {
   "cell_type": "code",
   "execution_count": 21,
   "metadata": {},
   "outputs": [
    {
     "data": {
      "text/html": [
       "<div>\n",
       "<style scoped>\n",
       "    .dataframe tbody tr th:only-of-type {\n",
       "        vertical-align: middle;\n",
       "    }\n",
       "\n",
       "    .dataframe tbody tr th {\n",
       "        vertical-align: top;\n",
       "    }\n",
       "\n",
       "    .dataframe thead th {\n",
       "        text-align: right;\n",
       "    }\n",
       "</style>\n",
       "<table border=\"1\" class=\"dataframe\">\n",
       "  <thead>\n",
       "    <tr style=\"text-align: right;\">\n",
       "      <th></th>\n",
       "      <th>name</th>\n",
       "      <th>placeID</th>\n",
       "    </tr>\n",
       "  </thead>\n",
       "  <tbody>\n",
       "    <tr>\n",
       "      <th>0</th>\n",
       "      <td>Kiku Cuernavaca</td>\n",
       "      <td>134999</td>\n",
       "    </tr>\n",
       "    <tr>\n",
       "      <th>1</th>\n",
       "      <td>puesto de tacos</td>\n",
       "      <td>132825</td>\n",
       "    </tr>\n",
       "    <tr>\n",
       "      <th>2</th>\n",
       "      <td>El Rincón de San Francisco</td>\n",
       "      <td>135106</td>\n",
       "    </tr>\n",
       "    <tr>\n",
       "      <th>3</th>\n",
       "      <td>little pizza Emilio Portes Gil</td>\n",
       "      <td>132667</td>\n",
       "    </tr>\n",
       "    <tr>\n",
       "      <th>4</th>\n",
       "      <td>carnitas_mata</td>\n",
       "      <td>132613</td>\n",
       "    </tr>\n",
       "    <tr>\n",
       "      <th>...</th>\n",
       "      <td>...</td>\n",
       "      <td>...</td>\n",
       "    </tr>\n",
       "    <tr>\n",
       "      <th>125</th>\n",
       "      <td>Chaires</td>\n",
       "      <td>132866</td>\n",
       "    </tr>\n",
       "    <tr>\n",
       "      <th>126</th>\n",
       "      <td>Sushi Itto</td>\n",
       "      <td>135072</td>\n",
       "    </tr>\n",
       "    <tr>\n",
       "      <th>127</th>\n",
       "      <td>Paniroles</td>\n",
       "      <td>135109</td>\n",
       "    </tr>\n",
       "    <tr>\n",
       "      <th>128</th>\n",
       "      <td>Restaurant Bar Coty y Pablo</td>\n",
       "      <td>135019</td>\n",
       "    </tr>\n",
       "    <tr>\n",
       "      <th>129</th>\n",
       "      <td>sirloin stockade</td>\n",
       "      <td>132877</td>\n",
       "    </tr>\n",
       "  </tbody>\n",
       "</table>\n",
       "<p>130 rows × 2 columns</p>\n",
       "</div>"
      ],
      "text/plain": [
       "                               name  placeID\n",
       "0                   Kiku Cuernavaca   134999\n",
       "1                   puesto de tacos   132825\n",
       "2        El Rincón de San Francisco   135106\n",
       "3    little pizza Emilio Portes Gil   132667\n",
       "4                     carnitas_mata   132613\n",
       "..                              ...      ...\n",
       "125                         Chaires   132866\n",
       "126                      Sushi Itto   135072\n",
       "127                       Paniroles   135109\n",
       "128     Restaurant Bar Coty y Pablo   135019\n",
       "129                sirloin stockade   132877\n",
       "\n",
       "[130 rows x 2 columns]"
      ]
     },
     "execution_count": 21,
     "metadata": {},
     "output_type": "execute_result"
    }
   ],
   "source": [
    "matriz_geo_grl"
   ]
  },
  {
   "cell_type": "code",
   "execution_count": 22,
   "metadata": {},
   "outputs": [
    {
     "data": {
      "text/html": [
       "<div>\n",
       "<style scoped>\n",
       "    .dataframe tbody tr th:only-of-type {\n",
       "        vertical-align: middle;\n",
       "    }\n",
       "\n",
       "    .dataframe tbody tr th {\n",
       "        vertical-align: top;\n",
       "    }\n",
       "\n",
       "    .dataframe thead th {\n",
       "        text-align: right;\n",
       "    }\n",
       "</style>\n",
       "<table border=\"1\" class=\"dataframe\">\n",
       "  <thead>\n",
       "    <tr style=\"text-align: right;\">\n",
       "      <th></th>\n",
       "      <th>name</th>\n",
       "      <th>placeID</th>\n",
       "      <th>userID</th>\n",
       "      <th>rating</th>\n",
       "    </tr>\n",
       "  </thead>\n",
       "  <tbody>\n",
       "    <tr>\n",
       "      <th>0</th>\n",
       "      <td>Kiku Cuernavaca</td>\n",
       "      <td>134999</td>\n",
       "      <td>U1093</td>\n",
       "      <td>2</td>\n",
       "    </tr>\n",
       "    <tr>\n",
       "      <th>1</th>\n",
       "      <td>Kiku Cuernavaca</td>\n",
       "      <td>134999</td>\n",
       "      <td>U1066</td>\n",
       "      <td>1</td>\n",
       "    </tr>\n",
       "    <tr>\n",
       "      <th>2</th>\n",
       "      <td>Kiku Cuernavaca</td>\n",
       "      <td>134999</td>\n",
       "      <td>U1040</td>\n",
       "      <td>1</td>\n",
       "    </tr>\n",
       "    <tr>\n",
       "      <th>3</th>\n",
       "      <td>Kiku Cuernavaca</td>\n",
       "      <td>134999</td>\n",
       "      <td>U1110</td>\n",
       "      <td>2</td>\n",
       "    </tr>\n",
       "    <tr>\n",
       "      <th>4</th>\n",
       "      <td>Kiku Cuernavaca</td>\n",
       "      <td>134999</td>\n",
       "      <td>U1121</td>\n",
       "      <td>2</td>\n",
       "    </tr>\n",
       "    <tr>\n",
       "      <th>...</th>\n",
       "      <td>...</td>\n",
       "      <td>...</td>\n",
       "      <td>...</td>\n",
       "      <td>...</td>\n",
       "    </tr>\n",
       "    <tr>\n",
       "      <th>1156</th>\n",
       "      <td>Restaurant Bar Coty y Pablo</td>\n",
       "      <td>135019</td>\n",
       "      <td>U1121</td>\n",
       "      <td>2</td>\n",
       "    </tr>\n",
       "    <tr>\n",
       "      <th>1157</th>\n",
       "      <td>sirloin stockade</td>\n",
       "      <td>132877</td>\n",
       "      <td>U1047</td>\n",
       "      <td>0</td>\n",
       "    </tr>\n",
       "    <tr>\n",
       "      <th>1158</th>\n",
       "      <td>sirloin stockade</td>\n",
       "      <td>132877</td>\n",
       "      <td>U1111</td>\n",
       "      <td>1</td>\n",
       "    </tr>\n",
       "    <tr>\n",
       "      <th>1159</th>\n",
       "      <td>sirloin stockade</td>\n",
       "      <td>132877</td>\n",
       "      <td>U1015</td>\n",
       "      <td>1</td>\n",
       "    </tr>\n",
       "    <tr>\n",
       "      <th>1160</th>\n",
       "      <td>sirloin stockade</td>\n",
       "      <td>132877</td>\n",
       "      <td>U1025</td>\n",
       "      <td>1</td>\n",
       "    </tr>\n",
       "  </tbody>\n",
       "</table>\n",
       "<p>1161 rows × 4 columns</p>\n",
       "</div>"
      ],
      "text/plain": [
       "                             name  placeID userID  rating\n",
       "0                 Kiku Cuernavaca   134999  U1093       2\n",
       "1                 Kiku Cuernavaca   134999  U1066       1\n",
       "2                 Kiku Cuernavaca   134999  U1040       1\n",
       "3                 Kiku Cuernavaca   134999  U1110       2\n",
       "4                 Kiku Cuernavaca   134999  U1121       2\n",
       "...                           ...      ...    ...     ...\n",
       "1156  Restaurant Bar Coty y Pablo   135019  U1121       2\n",
       "1157             sirloin stockade   132877  U1047       0\n",
       "1158             sirloin stockade   132877  U1111       1\n",
       "1159             sirloin stockade   132877  U1015       1\n",
       "1160             sirloin stockade   132877  U1025       1\n",
       "\n",
       "[1161 rows x 4 columns]"
      ]
     },
     "execution_count": 22,
     "metadata": {},
     "output_type": "execute_result"
    }
   ],
   "source": [
    "tabla_relacional = pd.merge(matriz_geo_grl,matriz_ratings_grl, on='placeID')   # dataFrame\n",
    "tabla_relacional "
   ]
  },
  {
   "cell_type": "code",
   "execution_count": 23,
   "metadata": {},
   "outputs": [
    {
     "data": {
      "text/html": [
       "<div>\n",
       "<style scoped>\n",
       "    .dataframe tbody tr th:only-of-type {\n",
       "        vertical-align: middle;\n",
       "    }\n",
       "\n",
       "    .dataframe tbody tr th {\n",
       "        vertical-align: top;\n",
       "    }\n",
       "\n",
       "    .dataframe thead th {\n",
       "        text-align: right;\n",
       "    }\n",
       "</style>\n",
       "<table border=\"1\" class=\"dataframe\">\n",
       "  <thead>\n",
       "    <tr style=\"text-align: right;\">\n",
       "      <th>name</th>\n",
       "      <th>Abondance Restaurante Bar</th>\n",
       "      <th>Arrachela Grill</th>\n",
       "      <th>Cabana Huasteca</th>\n",
       "      <th>Cafe Chaires</th>\n",
       "      <th>Cafeteria cenidet</th>\n",
       "      <th>Cafeteria y Restaurant El Pacifico</th>\n",
       "      <th>Carls Jr</th>\n",
       "      <th>Carnitas Mata  Calle 16 de Septiembre</th>\n",
       "      <th>Carreton de Flautas y Migadas</th>\n",
       "      <th>Cenaduria El RincÃ³n de Tlaquepaque</th>\n",
       "      <th>...</th>\n",
       "      <th>puesto de tacos</th>\n",
       "      <th>rockabilly</th>\n",
       "      <th>shi ro ie</th>\n",
       "      <th>sirloin stockade</th>\n",
       "      <th>tacos abi</th>\n",
       "      <th>tacos de barbacoa enfrente del Tec</th>\n",
       "      <th>tacos de la estacion</th>\n",
       "      <th>tacos los volcanes</th>\n",
       "      <th>tortas hawai</th>\n",
       "      <th>vips</th>\n",
       "    </tr>\n",
       "    <tr>\n",
       "      <th>userID</th>\n",
       "      <th></th>\n",
       "      <th></th>\n",
       "      <th></th>\n",
       "      <th></th>\n",
       "      <th></th>\n",
       "      <th></th>\n",
       "      <th></th>\n",
       "      <th></th>\n",
       "      <th></th>\n",
       "      <th></th>\n",
       "      <th></th>\n",
       "      <th></th>\n",
       "      <th></th>\n",
       "      <th></th>\n",
       "      <th></th>\n",
       "      <th></th>\n",
       "      <th></th>\n",
       "      <th></th>\n",
       "      <th></th>\n",
       "      <th></th>\n",
       "      <th></th>\n",
       "    </tr>\n",
       "  </thead>\n",
       "  <tbody>\n",
       "    <tr>\n",
       "      <th>U1001</th>\n",
       "      <td>0</td>\n",
       "      <td>0</td>\n",
       "      <td>0</td>\n",
       "      <td>0</td>\n",
       "      <td>0</td>\n",
       "      <td>0</td>\n",
       "      <td>0</td>\n",
       "      <td>0</td>\n",
       "      <td>0</td>\n",
       "      <td>0</td>\n",
       "      <td>...</td>\n",
       "      <td>2</td>\n",
       "      <td>0</td>\n",
       "      <td>0</td>\n",
       "      <td>0</td>\n",
       "      <td>0</td>\n",
       "      <td>0</td>\n",
       "      <td>0</td>\n",
       "      <td>0</td>\n",
       "      <td>0</td>\n",
       "      <td>0</td>\n",
       "    </tr>\n",
       "    <tr>\n",
       "      <th>U1002</th>\n",
       "      <td>0</td>\n",
       "      <td>0</td>\n",
       "      <td>0</td>\n",
       "      <td>0</td>\n",
       "      <td>0</td>\n",
       "      <td>0</td>\n",
       "      <td>0</td>\n",
       "      <td>0</td>\n",
       "      <td>0</td>\n",
       "      <td>0</td>\n",
       "      <td>...</td>\n",
       "      <td>2</td>\n",
       "      <td>0</td>\n",
       "      <td>0</td>\n",
       "      <td>0</td>\n",
       "      <td>0</td>\n",
       "      <td>0</td>\n",
       "      <td>0</td>\n",
       "      <td>0</td>\n",
       "      <td>0</td>\n",
       "      <td>0</td>\n",
       "    </tr>\n",
       "    <tr>\n",
       "      <th>U1003</th>\n",
       "      <td>0</td>\n",
       "      <td>0</td>\n",
       "      <td>2</td>\n",
       "      <td>0</td>\n",
       "      <td>0</td>\n",
       "      <td>0</td>\n",
       "      <td>0</td>\n",
       "      <td>0</td>\n",
       "      <td>0</td>\n",
       "      <td>0</td>\n",
       "      <td>...</td>\n",
       "      <td>2</td>\n",
       "      <td>2</td>\n",
       "      <td>0</td>\n",
       "      <td>0</td>\n",
       "      <td>0</td>\n",
       "      <td>0</td>\n",
       "      <td>0</td>\n",
       "      <td>0</td>\n",
       "      <td>0</td>\n",
       "      <td>0</td>\n",
       "    </tr>\n",
       "    <tr>\n",
       "      <th>U1004</th>\n",
       "      <td>0</td>\n",
       "      <td>0</td>\n",
       "      <td>0</td>\n",
       "      <td>0</td>\n",
       "      <td>0</td>\n",
       "      <td>2</td>\n",
       "      <td>0</td>\n",
       "      <td>0</td>\n",
       "      <td>0</td>\n",
       "      <td>0</td>\n",
       "      <td>...</td>\n",
       "      <td>0</td>\n",
       "      <td>0</td>\n",
       "      <td>0</td>\n",
       "      <td>0</td>\n",
       "      <td>0</td>\n",
       "      <td>0</td>\n",
       "      <td>0</td>\n",
       "      <td>2</td>\n",
       "      <td>0</td>\n",
       "      <td>0</td>\n",
       "    </tr>\n",
       "    <tr>\n",
       "      <th>U1005</th>\n",
       "      <td>0</td>\n",
       "      <td>0</td>\n",
       "      <td>0</td>\n",
       "      <td>0</td>\n",
       "      <td>0</td>\n",
       "      <td>2</td>\n",
       "      <td>0</td>\n",
       "      <td>0</td>\n",
       "      <td>0</td>\n",
       "      <td>0</td>\n",
       "      <td>...</td>\n",
       "      <td>0</td>\n",
       "      <td>0</td>\n",
       "      <td>0</td>\n",
       "      <td>0</td>\n",
       "      <td>0</td>\n",
       "      <td>0</td>\n",
       "      <td>0</td>\n",
       "      <td>0</td>\n",
       "      <td>0</td>\n",
       "      <td>0</td>\n",
       "    </tr>\n",
       "    <tr>\n",
       "      <th>U1006</th>\n",
       "      <td>0</td>\n",
       "      <td>0</td>\n",
       "      <td>0</td>\n",
       "      <td>1</td>\n",
       "      <td>0</td>\n",
       "      <td>0</td>\n",
       "      <td>0</td>\n",
       "      <td>0</td>\n",
       "      <td>0</td>\n",
       "      <td>0</td>\n",
       "      <td>...</td>\n",
       "      <td>1</td>\n",
       "      <td>0</td>\n",
       "      <td>2</td>\n",
       "      <td>0</td>\n",
       "      <td>0</td>\n",
       "      <td>0</td>\n",
       "      <td>0</td>\n",
       "      <td>0</td>\n",
       "      <td>0</td>\n",
       "      <td>0</td>\n",
       "    </tr>\n",
       "    <tr>\n",
       "      <th>U1007</th>\n",
       "      <td>0</td>\n",
       "      <td>0</td>\n",
       "      <td>0</td>\n",
       "      <td>1</td>\n",
       "      <td>0</td>\n",
       "      <td>1</td>\n",
       "      <td>0</td>\n",
       "      <td>0</td>\n",
       "      <td>0</td>\n",
       "      <td>0</td>\n",
       "      <td>...</td>\n",
       "      <td>0</td>\n",
       "      <td>0</td>\n",
       "      <td>0</td>\n",
       "      <td>0</td>\n",
       "      <td>0</td>\n",
       "      <td>0</td>\n",
       "      <td>0</td>\n",
       "      <td>0</td>\n",
       "      <td>0</td>\n",
       "      <td>0</td>\n",
       "    </tr>\n",
       "    <tr>\n",
       "      <th>U1008</th>\n",
       "      <td>1</td>\n",
       "      <td>0</td>\n",
       "      <td>0</td>\n",
       "      <td>0</td>\n",
       "      <td>0</td>\n",
       "      <td>0</td>\n",
       "      <td>0</td>\n",
       "      <td>0</td>\n",
       "      <td>0</td>\n",
       "      <td>0</td>\n",
       "      <td>...</td>\n",
       "      <td>0</td>\n",
       "      <td>0</td>\n",
       "      <td>0</td>\n",
       "      <td>0</td>\n",
       "      <td>0</td>\n",
       "      <td>0</td>\n",
       "      <td>0</td>\n",
       "      <td>0</td>\n",
       "      <td>0</td>\n",
       "      <td>0</td>\n",
       "    </tr>\n",
       "    <tr>\n",
       "      <th>U1009</th>\n",
       "      <td>0</td>\n",
       "      <td>0</td>\n",
       "      <td>1</td>\n",
       "      <td>0</td>\n",
       "      <td>0</td>\n",
       "      <td>0</td>\n",
       "      <td>0</td>\n",
       "      <td>0</td>\n",
       "      <td>0</td>\n",
       "      <td>0</td>\n",
       "      <td>...</td>\n",
       "      <td>1</td>\n",
       "      <td>0</td>\n",
       "      <td>0</td>\n",
       "      <td>0</td>\n",
       "      <td>0</td>\n",
       "      <td>0</td>\n",
       "      <td>0</td>\n",
       "      <td>0</td>\n",
       "      <td>0</td>\n",
       "      <td>0</td>\n",
       "    </tr>\n",
       "    <tr>\n",
       "      <th>U1010</th>\n",
       "      <td>0</td>\n",
       "      <td>0</td>\n",
       "      <td>0</td>\n",
       "      <td>0</td>\n",
       "      <td>0</td>\n",
       "      <td>0</td>\n",
       "      <td>0</td>\n",
       "      <td>0</td>\n",
       "      <td>0</td>\n",
       "      <td>0</td>\n",
       "      <td>...</td>\n",
       "      <td>0</td>\n",
       "      <td>0</td>\n",
       "      <td>0</td>\n",
       "      <td>0</td>\n",
       "      <td>0</td>\n",
       "      <td>0</td>\n",
       "      <td>0</td>\n",
       "      <td>0</td>\n",
       "      <td>0</td>\n",
       "      <td>0</td>\n",
       "    </tr>\n",
       "  </tbody>\n",
       "</table>\n",
       "<p>10 rows × 129 columns</p>\n",
       "</div>"
      ],
      "text/plain": [
       "name    Abondance Restaurante Bar  Arrachela Grill  Cabana Huasteca  \\\n",
       "userID                                                                \n",
       "U1001                           0                0                0   \n",
       "U1002                           0                0                0   \n",
       "U1003                           0                0                2   \n",
       "U1004                           0                0                0   \n",
       "U1005                           0                0                0   \n",
       "U1006                           0                0                0   \n",
       "U1007                           0                0                0   \n",
       "U1008                           1                0                0   \n",
       "U1009                           0                0                1   \n",
       "U1010                           0                0                0   \n",
       "\n",
       "name    Cafe Chaires  Cafeteria cenidet  Cafeteria y Restaurant El Pacifico  \\\n",
       "userID                                                                        \n",
       "U1001              0                  0                                   0   \n",
       "U1002              0                  0                                   0   \n",
       "U1003              0                  0                                   0   \n",
       "U1004              0                  0                                   2   \n",
       "U1005              0                  0                                   2   \n",
       "U1006              1                  0                                   0   \n",
       "U1007              1                  0                                   1   \n",
       "U1008              0                  0                                   0   \n",
       "U1009              0                  0                                   0   \n",
       "U1010              0                  0                                   0   \n",
       "\n",
       "name    Carls Jr  Carnitas Mata  Calle 16 de Septiembre  \\\n",
       "userID                                                    \n",
       "U1001          0                                      0   \n",
       "U1002          0                                      0   \n",
       "U1003          0                                      0   \n",
       "U1004          0                                      0   \n",
       "U1005          0                                      0   \n",
       "U1006          0                                      0   \n",
       "U1007          0                                      0   \n",
       "U1008          0                                      0   \n",
       "U1009          0                                      0   \n",
       "U1010          0                                      0   \n",
       "\n",
       "name    Carreton de Flautas y Migadas  Cenaduria El RincÃ³n de Tlaquepaque  \\\n",
       "userID                                                                       \n",
       "U1001                               0                                    0   \n",
       "U1002                               0                                    0   \n",
       "U1003                               0                                    0   \n",
       "U1004                               0                                    0   \n",
       "U1005                               0                                    0   \n",
       "U1006                               0                                    0   \n",
       "U1007                               0                                    0   \n",
       "U1008                               0                                    0   \n",
       "U1009                               0                                    0   \n",
       "U1010                               0                                    0   \n",
       "\n",
       "name    ...  puesto de tacos  rockabilly   shi ro ie  sirloin stockade  \\\n",
       "userID  ...                                                              \n",
       "U1001   ...                2            0          0                 0   \n",
       "U1002   ...                2            0          0                 0   \n",
       "U1003   ...                2            2          0                 0   \n",
       "U1004   ...                0            0          0                 0   \n",
       "U1005   ...                0            0          0                 0   \n",
       "U1006   ...                1            0          2                 0   \n",
       "U1007   ...                0            0          0                 0   \n",
       "U1008   ...                0            0          0                 0   \n",
       "U1009   ...                1            0          0                 0   \n",
       "U1010   ...                0            0          0                 0   \n",
       "\n",
       "name    tacos abi  tacos de barbacoa enfrente del Tec  tacos de la estacion  \\\n",
       "userID                                                                        \n",
       "U1001           0                                   0                     0   \n",
       "U1002           0                                   0                     0   \n",
       "U1003           0                                   0                     0   \n",
       "U1004           0                                   0                     0   \n",
       "U1005           0                                   0                     0   \n",
       "U1006           0                                   0                     0   \n",
       "U1007           0                                   0                     0   \n",
       "U1008           0                                   0                     0   \n",
       "U1009           0                                   0                     0   \n",
       "U1010           0                                   0                     0   \n",
       "\n",
       "name    tacos los volcanes  tortas hawai  vips  \n",
       "userID                                          \n",
       "U1001                    0             0     0  \n",
       "U1002                    0             0     0  \n",
       "U1003                    0             0     0  \n",
       "U1004                    2             0     0  \n",
       "U1005                    0             0     0  \n",
       "U1006                    0             0     0  \n",
       "U1007                    0             0     0  \n",
       "U1008                    0             0     0  \n",
       "U1009                    0             0     0  \n",
       "U1010                    0             0     0  \n",
       "\n",
       "[10 rows x 129 columns]"
      ]
     },
     "execution_count": 23,
     "metadata": {},
     "output_type": "execute_result"
    }
   ],
   "source": [
    "UtMx = tabla_relacional.pivot_table(values='rating', index='userID', columns='name', fill_value=0)\n",
    "\n",
    "UtMx.head(10)"
   ]
  },
  {
   "cell_type": "code",
   "execution_count": 24,
   "metadata": {},
   "outputs": [
    {
     "data": {
      "text/plain": [
       "(138, 129)"
      ]
     },
     "execution_count": 24,
     "metadata": {},
     "output_type": "execute_result"
    }
   ],
   "source": [
    "UtMx.shape "
   ]
  },
  {
   "cell_type": "code",
   "execution_count": 52,
   "metadata": {},
   "outputs": [
    {
     "name": "stdout",
     "output_type": "stream",
     "text": [
      "Total de elementos de la matriz de utilidad: 17802\n",
      "Total de elementos diferentes de cero: 907\n",
      "Porcentaje de elementos diferentes de cero: 5.1%\n"
     ]
    }
   ],
   "source": [
    "print('Total de elementos de la matriz de utilidad: %d' % (UtMx.size))\n",
    "print('Total de elementos diferentes de cero: %d' % (np.count_nonzero(UtMx)))\n",
    "print('Porcentaje de elementos diferentes de cero: %.1f%%' % (100 * np.count_nonzero(UtMx) / UtMx.size))"
   ]
  },
  {
   "cell_type": "markdown",
   "metadata": {
    "id": "xZhr2hkECzVv"
   },
   "source": [
    "#**Ejercicio-2.**\n",
    "\n",
    "2. Con el objetivo de obtener la información con respecto a los vectores latentes de los restaurantes, obtener dicha factorización SVD utilizando todas las componentes posibles, es decir, usando todos sus valores singulares. En particular indica la cantidad de valores singulares obtenidos."
   ]
  },
  {
   "cell_type": "code",
   "execution_count": 215,
   "metadata": {},
   "outputs": [
    {
     "data": {
      "text/plain": [
       "(129, 138)"
      ]
     },
     "execution_count": 215,
     "metadata": {},
     "output_type": "execute_result"
    }
   ],
   "source": [
    "X = UtMx.T     # Tomamos la traspuesta para que los renglones sean las películas y las columnas los usuarios.\n",
    "X.shape"
   ]
  },
  {
   "cell_type": "code",
   "execution_count": 220,
   "metadata": {
    "id": "kGfAoOPkC1PP"
   },
   "outputs": [
    {
     "data": {
      "text/html": [
       "<style>#sk-container-id-7 {color: black;background-color: white;}#sk-container-id-7 pre{padding: 0;}#sk-container-id-7 div.sk-toggleable {background-color: white;}#sk-container-id-7 label.sk-toggleable__label {cursor: pointer;display: block;width: 100%;margin-bottom: 0;padding: 0.3em;box-sizing: border-box;text-align: center;}#sk-container-id-7 label.sk-toggleable__label-arrow:before {content: \"▸\";float: left;margin-right: 0.25em;color: #696969;}#sk-container-id-7 label.sk-toggleable__label-arrow:hover:before {color: black;}#sk-container-id-7 div.sk-estimator:hover label.sk-toggleable__label-arrow:before {color: black;}#sk-container-id-7 div.sk-toggleable__content {max-height: 0;max-width: 0;overflow: hidden;text-align: left;background-color: #f0f8ff;}#sk-container-id-7 div.sk-toggleable__content pre {margin: 0.2em;color: black;border-radius: 0.25em;background-color: #f0f8ff;}#sk-container-id-7 input.sk-toggleable__control:checked~div.sk-toggleable__content {max-height: 200px;max-width: 100%;overflow: auto;}#sk-container-id-7 input.sk-toggleable__control:checked~label.sk-toggleable__label-arrow:before {content: \"▾\";}#sk-container-id-7 div.sk-estimator input.sk-toggleable__control:checked~label.sk-toggleable__label {background-color: #d4ebff;}#sk-container-id-7 div.sk-label input.sk-toggleable__control:checked~label.sk-toggleable__label {background-color: #d4ebff;}#sk-container-id-7 input.sk-hidden--visually {border: 0;clip: rect(1px 1px 1px 1px);clip: rect(1px, 1px, 1px, 1px);height: 1px;margin: -1px;overflow: hidden;padding: 0;position: absolute;width: 1px;}#sk-container-id-7 div.sk-estimator {font-family: monospace;background-color: #f0f8ff;border: 1px dotted black;border-radius: 0.25em;box-sizing: border-box;margin-bottom: 0.5em;}#sk-container-id-7 div.sk-estimator:hover {background-color: #d4ebff;}#sk-container-id-7 div.sk-parallel-item::after {content: \"\";width: 100%;border-bottom: 1px solid gray;flex-grow: 1;}#sk-container-id-7 div.sk-label:hover label.sk-toggleable__label {background-color: #d4ebff;}#sk-container-id-7 div.sk-serial::before {content: \"\";position: absolute;border-left: 1px solid gray;box-sizing: border-box;top: 0;bottom: 0;left: 50%;z-index: 0;}#sk-container-id-7 div.sk-serial {display: flex;flex-direction: column;align-items: center;background-color: white;padding-right: 0.2em;padding-left: 0.2em;position: relative;}#sk-container-id-7 div.sk-item {position: relative;z-index: 1;}#sk-container-id-7 div.sk-parallel {display: flex;align-items: stretch;justify-content: center;background-color: white;position: relative;}#sk-container-id-7 div.sk-item::before, #sk-container-id-7 div.sk-parallel-item::before {content: \"\";position: absolute;border-left: 1px solid gray;box-sizing: border-box;top: 0;bottom: 0;left: 50%;z-index: -1;}#sk-container-id-7 div.sk-parallel-item {display: flex;flex-direction: column;z-index: 1;position: relative;background-color: white;}#sk-container-id-7 div.sk-parallel-item:first-child::after {align-self: flex-end;width: 50%;}#sk-container-id-7 div.sk-parallel-item:last-child::after {align-self: flex-start;width: 50%;}#sk-container-id-7 div.sk-parallel-item:only-child::after {width: 0;}#sk-container-id-7 div.sk-dashed-wrapped {border: 1px dashed gray;margin: 0 0.4em 0.5em 0.4em;box-sizing: border-box;padding-bottom: 0.4em;background-color: white;}#sk-container-id-7 div.sk-label label {font-family: monospace;font-weight: bold;display: inline-block;line-height: 1.2em;}#sk-container-id-7 div.sk-label-container {text-align: center;}#sk-container-id-7 div.sk-container {/* jupyter's `normalize.less` sets `[hidden] { display: none; }` but bootstrap.min.css set `[hidden] { display: none !important; }` so we also need the `!important` here to be able to override the default hidden behavior on the sphinx rendered scikit-learn.org. See: https://github.com/scikit-learn/scikit-learn/issues/21755 */display: inline-block !important;position: relative;}#sk-container-id-7 div.sk-text-repr-fallback {display: none;}</style><div id=\"sk-container-id-7\" class=\"sk-top-container\"><div class=\"sk-text-repr-fallback\"><pre>TruncatedSVD(n_components=137, random_state=42)</pre><b>In a Jupyter environment, please rerun this cell to show the HTML representation or trust the notebook. <br />On GitHub, the HTML representation is unable to render, please try loading this page with nbviewer.org.</b></div><div class=\"sk-container\" hidden><div class=\"sk-item\"><div class=\"sk-estimator sk-toggleable\"><input class=\"sk-toggleable__control sk-hidden--visually\" id=\"sk-estimator-id-7\" type=\"checkbox\" checked><label for=\"sk-estimator-id-7\" class=\"sk-toggleable__label sk-toggleable__label-arrow\">TruncatedSVD</label><div class=\"sk-toggleable__content\"><pre>TruncatedSVD(n_components=137, random_state=42)</pre></div></div></div></div></div>"
      ],
      "text/plain": [
       "TruncatedSVD(n_components=137, random_state=42)"
      ]
     },
     "execution_count": 220,
     "metadata": {},
     "output_type": "execute_result"
    }
   ],
   "source": [
    "SVD = TruncatedSVD(n_components=137, random_state=42)  \n",
    "SVD.fit(X)\n"
   ]
  },
  {
   "cell_type": "code",
   "execution_count": 221,
   "metadata": {
    "id": "GOydw5OGC1MJ"
   },
   "outputs": [
    {
     "name": "stdout",
     "output_type": "stream",
     "text": [
      "La cantidad de valores singulares obtenidos es de: 129\n"
     ]
    }
   ],
   "source": [
    "b=0\n",
    "for a in SVD.singular_values_:\n",
    "    b=b+1\n",
    "print(\"La cantidad de valores singulares obtenidos es de:\",b)"
   ]
  },
  {
   "cell_type": "code",
   "execution_count": 222,
   "metadata": {},
   "outputs": [
    {
     "data": {
      "text/plain": [
       "(129, 129)"
      ]
     },
     "execution_count": 222,
     "metadata": {},
     "output_type": "execute_result"
    }
   ],
   "source": [
    "resultant_matrix = SVD.fit_transform(X)\n",
    "resultant_matrix.shape"
   ]
  },
  {
   "cell_type": "markdown",
   "metadata": {
    "id": "NCunuooTC2W3"
   },
   "source": [
    "#**Ejercicio-3.**\n",
    "\n",
    "3. Usando la métrica de correlación de Pearon, obtener las 10 mejores recomendaciones de este modelo no supervisado con base a la información de alguien que evaluó bien de manera general al “Subway”. Despliega también el valor numérico de la correlación de Pearson de cada una de estas 10 recomendaciones. NOTA: No debe estar incluido “Subway” dentro de las recomendaciones."
   ]
  },
  {
   "cell_type": "code",
   "execution_count": 223,
   "metadata": {
    "id": "YXlcSWA-C4Dj"
   },
   "outputs": [
    {
     "data": {
      "text/plain": [
       "(129, 129)"
      ]
     },
     "execution_count": 223,
     "metadata": {},
     "output_type": "execute_result"
    }
   ],
   "source": [
    "corrMx = np.corrcoef(resultant_matrix, )\n",
    "corrMx.shape"
   ]
  },
  {
   "cell_type": "code",
   "execution_count": 224,
   "metadata": {
    "id": "BKI80-YdC4HN",
    "scrolled": false
   },
   "outputs": [
    {
     "data": {
      "text/plain": [
       "88"
      ]
     },
     "execution_count": 224,
     "metadata": {},
     "output_type": "execute_result"
    }
   ],
   "source": [
    "me_gusta = \"Subway\"\n",
    "\n",
    "names = UtMx.columns\n",
    "names_list = list(names)\n",
    "id_megusta = names_list.index(me_gusta)\n",
    "\n",
    "id_megusta\n"
   ]
  },
  {
   "cell_type": "code",
   "execution_count": 225,
   "metadata": {},
   "outputs": [
    {
     "name": "stdout",
     "output_type": "stream",
     "text": [
      "(129,)\n",
      "[-7.69028369e-04 -7.87822168e-05 -5.27330975e-03  8.58511349e-04\n",
      " -3.03891148e-03  3.97495832e-05 -1.54820208e-03 -5.29347145e-03\n",
      "  7.27520383e-04 -1.55098452e-03 -1.84483094e-03  3.01090491e-01\n",
      " -3.06938616e-05 -3.66639157e-03 -2.28024815e-03 -1.70971180e-03\n",
      "  2.66961340e-03  4.58467365e-04 -2.11449533e-03 -6.20445134e-03\n",
      "  3.34268563e-03  1.16598607e-01  1.87080102e-03  2.53682556e-03\n",
      " -5.48801141e-03 -2.91288266e-03  2.02825342e-03 -1.36607265e-03\n",
      " -2.01695899e-03  1.12058244e-01 -2.36235727e-03  6.52159239e-04\n",
      "  3.53495770e-03 -3.62793330e-03  1.69065407e-03 -4.51837401e-03\n",
      " -2.09301342e-03  2.34634298e-01 -3.80413494e-03 -5.11845710e-04\n",
      " -2.27148704e-03  3.88178002e-01 -2.07427108e-03 -2.29428835e-03\n",
      "  1.32565455e-03  3.01002479e-01  1.71433518e-01 -3.29715354e-03\n",
      " -4.74480596e-03 -8.02527884e-04 -2.65071452e-03  1.12018889e-01\n",
      " -3.91080724e-03 -2.06369812e-03  1.16008629e-01  2.27855804e-01\n",
      "  4.28342495e-04 -8.69739761e-04  6.09520875e-01 -6.43364064e-03\n",
      "  4.25467169e-01 -2.27256171e-03  4.45920939e-05  5.11279379e-04\n",
      "  2.85149220e-01 -1.90010302e-03 -4.16115194e-03 -5.61375368e-03\n",
      " -2.57693978e-03 -3.72881676e-03 -6.05992942e-03  1.41047150e-03\n",
      " -1.58675476e-04 -1.94116490e-03  2.09955125e-03 -2.10171395e-03\n",
      " -4.38985616e-03 -2.29468299e-03  7.76009788e-04 -2.96124143e-03\n",
      " -2.82046690e-03 -8.57374506e-04 -1.50259308e-03 -3.19597534e-03\n",
      " -2.56400020e-03  4.29823831e-01  4.17218501e-01  3.89064434e-03\n",
      "  1.00000000e+00 -9.93812832e-04  8.60361345e-04 -2.79531559e-03\n",
      "  2.37442956e-04 -3.06216758e-03  1.36462717e-03  2.66480676e-04\n",
      "  2.92661192e-03  5.06277680e-01 -3.20853148e-03 -8.36332065e-04\n",
      " -3.72003822e-03  1.60652886e-03 -1.25997089e-03 -2.57629937e-03\n",
      "  1.70432198e-03 -2.43624453e-03 -1.13863819e-03  1.91200064e-03\n",
      " -3.57766463e-03 -2.41086958e-03 -8.60077590e-03  3.33763511e-03\n",
      "  3.00375655e-03  2.47765536e-03  1.38274830e-03 -1.59646437e-05\n",
      " -8.37066511e-04 -1.73990894e-03 -1.20344221e-03 -3.56656608e-03\n",
      " -2.38089550e-03 -4.91396372e-06 -3.20025066e-03  1.81536303e-03\n",
      "  2.45429531e-03 -2.56625850e-03 -2.88100273e-03 -1.91214767e-03\n",
      "  8.37828947e-04]\n"
     ]
    }
   ],
   "source": [
    "corr_recomienda = corrMx[id_megusta]\n",
    "print(corr_recomienda.shape)\n",
    "print(corr_recomienda)"
   ]
  },
  {
   "cell_type": "code",
   "execution_count": 226,
   "metadata": {},
   "outputs": [
    {
     "data": {
      "text/plain": [
       "1.0"
      ]
     },
     "execution_count": 226,
     "metadata": {},
     "output_type": "execute_result"
    }
   ],
   "source": [
    "corr_recomienda[id_megusta]"
   ]
  },
  {
   "cell_type": "code",
   "execution_count": 227,
   "metadata": {},
   "outputs": [
    {
     "data": {
      "text/plain": [
       "['Chilis Cuernavaca',\n",
       " 'Log Yin',\n",
       " 'Mariscos Tia Licha',\n",
       " 'Mikasa',\n",
       " 'Restaurant Teely',\n",
       " 'Restaurant and Bar and Clothesline Carlos N Charlies',\n",
       " 'Restaurant los Pinos',\n",
       " 'Rincon del Bife',\n",
       " 'Sanborns Casa Piedra',\n",
       " 'Vips']"
      ]
     },
     "execution_count": 227,
     "metadata": {},
     "output_type": "execute_result"
    }
   ],
   "source": [
    "mejores10 = list(names[(corr_recomienda > 0.23)& (corr_recomienda < 1)])\n",
    "mejores10"
   ]
  },
  {
   "cell_type": "code",
   "execution_count": 228,
   "metadata": {},
   "outputs": [
    {
     "data": {
      "text/plain": [
       "[0.301090491044961,\n",
       " 0.23463429773399852,\n",
       " 0.3881780018525816,\n",
       " 0.3010024785497628,\n",
       " 0.6095208746935301,\n",
       " 0.4254671689089249,\n",
       " 0.28514921973296703,\n",
       " 0.4298238308559109,\n",
       " 0.41721850134793703,\n",
       " 0.5062776799761117]"
      ]
     },
     "execution_count": 228,
     "metadata": {},
     "output_type": "execute_result"
    }
   ],
   "source": [
    "list(corr_recomienda[(corr_recomienda > 0.23)& (corr_recomienda < 1)])"
   ]
  },
  {
   "cell_type": "markdown",
   "metadata": {
    "id": "chqk9jIDC5Pq"
   },
   "source": [
    "#**Ejercicio-4.**\n",
    "\n",
    "4. Disminuye ahora la dimensión de la factorización con un número de componentes tal, que las recomendaciones con esta menor cantidad de información coincidan en al menos 9 de las 10 recomendaciones dadas con todos los valores singulares. Indica la cantidad de valores singulares encontrado y la cantidad de información que contienen."
   ]
  },
  {
   "cell_type": "code",
   "execution_count": 230,
   "metadata": {},
   "outputs": [
    {
     "name": "stdout",
     "output_type": "stream",
     "text": [
      "Longitud de la segunda lista de recomendaciones: 10 \n",
      "\n",
      "Número de recomendaciones que son iguales entre la lista con valores singulares full y la segunda lista: 9\n",
      "\n",
      "Cantidad de información simplificada con los primeros 8 vectores singulares:\n",
      "79.3%\n"
     ]
    }
   ],
   "source": [
    "def busqueda_SVD(n,X,id_megusta,mejores10): \n",
    "    \n",
    "    SVD = TruncatedSVD(n_components=137, random_state=1)  \n",
    "    SVD.fit(X)\n",
    "    \n",
    "    \n",
    "    SVD_busqueda = TruncatedSVD(n_components=n, random_state=42) \n",
    "    SVD_busqueda.fit(X)\n",
    "    resultant_matrix_busqueda= SVD_busqueda.fit_transform(X)\n",
    "    corrMx_busqueda = np.corrcoef(resultant_matrix_busqueda, )\n",
    "    corr_recomienda_busqueda = corrMx_busqueda[id_megusta]\n",
    "    comparacion_mejores = list(names[(corr_recomienda_busqueda > 0.999955)& (corr_recomienda_busqueda < 1)])\n",
    "    print(\"Longitud de la segunda lista de recomendaciones:\",len(comparacion_mejores),\"\\n\")\n",
    "    print(\"Número de recomendaciones que son iguales entre la lista con valores singulares full y la segunda lista:\",len(set(mejores10).intersection(comparacion_mejores)))\n",
    "    print('\\nCantidad de información simplificada con los primeros %d vectores singulares:' % n)\n",
    "    print('%.1f%%' %  (100 * (1- (SVD.singular_values_[0:n]).sum() / (SVD.singular_values_).sum())))\n",
    "    return \n",
    "\n",
    "busqueda_SVD(8,X,id_megusta,mejores10)"
   ]
  },
  {
   "cell_type": "markdown",
   "metadata": {
    "id": "Rv7KFq-mC7PS"
   },
   "source": [
    "#**Ejercicio-5.**\n",
    "\n",
    "5. Repite el ejercicio con el restaurante “\"tacos de barbacoa enfrente del Tec\". Incluye tus conclusiones."
   ]
  },
  {
   "cell_type": "code",
   "execution_count": 231,
   "metadata": {
    "id": "jaDj3kawC9B6"
   },
   "outputs": [
    {
     "data": {
      "text/plain": [
       "124"
      ]
     },
     "execution_count": 231,
     "metadata": {},
     "output_type": "execute_result"
    }
   ],
   "source": [
    "me_gusta2 = \"tacos de barbacoa enfrente del Tec\"\n",
    "\n",
    "\n",
    "id_megusta2 = names_list.index(me_gusta2)\n",
    "\n",
    "id_megusta2"
   ]
  },
  {
   "cell_type": "code",
   "execution_count": 232,
   "metadata": {},
   "outputs": [
    {
     "name": "stdout",
     "output_type": "stream",
     "text": [
      "(129,)\n",
      "[ 1.90365985e-03  1.95018219e-04  1.30535991e-02 -2.12516683e-03\n",
      "  7.52254923e-03 -9.83964813e-05  3.83243356e-03  1.31035076e-02\n",
      "  4.07794920e-01  3.83932123e-03  4.56671136e-03  1.56152873e-03\n",
      "  7.59798653e-05  9.07581917e-03  5.64454708e-03  4.23223620e-03\n",
      " -6.60838540e-03 -1.13489430e-03  5.23424104e-03  1.53585555e-02\n",
      " -8.27451453e-03  4.82434184e-03 -4.63099792e-03 -6.27968115e-03\n",
      "  1.48442849e-01  1.91120451e-01 -5.02075704e-03  3.38158871e-03\n",
      "  4.99279870e-03  5.56810594e-03  5.84780076e-03 -1.61436094e-03\n",
      " -8.75046657e-03  8.98061922e-03 -4.18506052e-03  1.11848243e-02\n",
      "  2.58479385e-01  1.27230718e-02  9.41679037e-03  1.26702755e-03\n",
      "  5.62285977e-03  5.74403685e-03  5.13466958e-03  5.67930233e-03\n",
      " -3.28153738e-03  1.83689220e-03  1.11393805e-02  8.16180397e-03\n",
      "  1.17453360e-02  1.98658485e-03  6.56160293e-03  5.69993965e-03\n",
      "  9.68084797e-03  5.10849717e-03  6.85473722e-03 -3.44059875e-03\n",
      " -1.06032292e-03  2.15296175e-03  1.33109496e-04  1.59258928e-02\n",
      "  6.48831289e-03  5.62552000e-03 -1.10383676e-04 -1.26562564e-03\n",
      " -1.67166776e-03  4.70353236e-03  1.03005535e-02  1.38963371e-02\n",
      "  6.37898026e-03  9.23034706e-03  1.50008046e-02 -3.49149403e-03\n",
      "  3.92786721e-04  4.80517732e-03 -5.19724834e-03  5.20260190e-03\n",
      "  1.08666900e-02  5.68027923e-03 -1.92094172e-03  7.33028407e-03\n",
      "  6.98180953e-03  2.12235268e-03  3.71953264e-03  7.91134654e-03\n",
      "  6.34694950e-03 -5.40898390e-03  4.38279773e-03 -9.63093653e-03\n",
      "  2.45429531e-03  2.46009336e-03 -2.12974633e-03  6.91954973e-03\n",
      "  4.37184208e-01  7.58011759e-03 -3.37801056e-03 -6.59648698e-04\n",
      " -7.24456187e-03  1.54139054e-02  7.94242812e-03  2.07026403e-03\n",
      "  1.70939472e-01  1.70855947e-01  3.11894345e-03  6.37739499e-03\n",
      " -4.21889419e-03  6.03070196e-03  2.81859538e-03 -4.73298386e-03\n",
      "  8.85618371e-03  5.96788857e-03  2.12904392e-02 -8.26201244e-03\n",
      " -7.43552639e-03 -6.13321069e-03  6.53849268e-01  3.95190247e-05\n",
      "  1.95174088e-01  4.30698647e-03  4.12764523e-01  8.82871025e-03\n",
      "  5.89369046e-03  1.21640707e-05  7.92192972e-03  6.65305365e-01\n",
      "  1.00000000e+00  6.35253973e-03  7.13166046e-03  4.73334779e-03\n",
      "  8.17188985e-01]\n"
     ]
    }
   ],
   "source": [
    "corr_recomienda2 = corrMx[id_megusta2]\n",
    "print(corr_recomienda2.shape)\n",
    "print(corr_recomienda2)"
   ]
  },
  {
   "cell_type": "code",
   "execution_count": 243,
   "metadata": {
    "id": "4tQxQROVC9Us"
   },
   "outputs": [
    {
     "data": {
      "text/plain": [
       "['Carreton de Flautas y Migadas',\n",
       " 'Hamburguesas La perica',\n",
       " 'Little Cesarz',\n",
       " 'Taqueria EL amigo ',\n",
       " 'carnitas mata calle Emilio Portes Gil',\n",
       " 'little pizza Emilio Portes Gil',\n",
       " 'palomo tec',\n",
       " 'puesto de gorditas',\n",
       " 'tacos abi',\n",
       " 'vips']"
      ]
     },
     "execution_count": 243,
     "metadata": {},
     "output_type": "execute_result"
    }
   ],
   "source": [
    "mejores10_2 = list(names[(corr_recomienda2 > 0.1709)& (corr_recomienda2 < 1)])\n",
    "mejores10_2"
   ]
  },
  {
   "cell_type": "code",
   "execution_count": 245,
   "metadata": {},
   "outputs": [
    {
     "data": {
      "text/plain": [
       "[0.40779492018129593,\n",
       " 0.19112045068235076,\n",
       " 0.258479385426264,\n",
       " 0.4371842084263567,\n",
       " 0.17093947240845903,\n",
       " 0.6538492684416535,\n",
       " 0.19517408801078595,\n",
       " 0.41276452318483897,\n",
       " 0.6653053654632715,\n",
       " 0.8171889849105266]"
      ]
     },
     "execution_count": 245,
     "metadata": {},
     "output_type": "execute_result"
    }
   ],
   "source": [
    "list(corr_recomienda2[(corr_recomienda2 > 0.1709)& (corr_recomienda2 < 1)])"
   ]
  },
  {
   "cell_type": "code",
   "execution_count": 439,
   "metadata": {},
   "outputs": [
    {
     "name": "stdout",
     "output_type": "stream",
     "text": [
      "Longitud de la segunda lista de recomendaciones: 10 \n",
      "\n",
      "Número de recomendaciones que son iguales entre la lista con valores singulares full y la segunda lista: 9\n",
      "\n",
      "Cantidad de información simplificada con los primeros 79 vectores singulares:\n",
      "9.9%\n"
     ]
    }
   ],
   "source": [
    "def busqueda_SVD_2(n,X,id_megusta,mejores10): \n",
    "    \n",
    "    SVD = TruncatedSVD(n_components=137, random_state=1)  \n",
    "    SVD.fit(X)\n",
    "    \n",
    "    \n",
    "    SVD_busqueda = TruncatedSVD(n_components=n, random_state=42) \n",
    "    SVD_busqueda.fit(X)\n",
    "    resultant_matrix_busqueda= SVD_busqueda.fit_transform(X)\n",
    "    corrMx_busqueda = np.corrcoef(resultant_matrix_busqueda, )\n",
    "    corr_recomienda_busqueda = corrMx_busqueda[id_megusta]\n",
    "    comparacion_mejores = list(names[(corr_recomienda_busqueda > 0.175)& (corr_recomienda_busqueda < 1)])\n",
    "    print(\"Longitud de la segunda lista de recomendaciones:\",len(comparacion_mejores),\"\\n\")\n",
    "    print(\"Número de recomendaciones que son iguales entre la lista con valores singulares full y la segunda lista:\",len(set(mejores10).intersection(comparacion_mejores)))\n",
    "    print('\\nCantidad de información simplificada con los primeros %d vectores singulares:' % n)\n",
    "    print('%.1f%%' %  (100 * (1- (SVD.singular_values_[0:n]).sum() / (SVD.singular_values_).sum())))\n",
    "    return \n",
    "\n",
    "busqueda_SVD_2(79,X,id_megusta2,mejores10_2)"
   ]
  },
  {
   "cell_type": "markdown",
   "metadata": {},
   "source": [
    "**Conclusiones del Ejercicio 5** - La búsqueda para encontrar valores singulares reducidos vs el ejercicio 4 fue muy diferente. Se hicieron ejercicios manuales y para los componentes 8, prácticamente ya habíamos conseguido el 90% de similitud. Intentamos aplicar la misma metodología para el ejercicio 5 y apenas para los componentes 79 es que pudimos igualar la misma eficiencia. En este caso la información simplificada fue muy poca (9.9% comparado con 79.3% del otro ejercicio) lo cual prácticamente nos dice que necesitamos casi la misma información para poder tener ese grado de precisión.  "
   ]
  },
  {
   "cell_type": "markdown",
   "metadata": {
    "id": "W2S7LI0NC9wE"
   },
   "source": [
    "#**Ejercicio-6.**\n",
    "\n",
    "6. Repite los ejercicios 1 a 4 generando ahora la matriz de utilidad en la cual los renglones son los usuarios (user_ID), las columnas los nombres de los restaurantes (name) y las entradas la evaluación dada a la comida (food_rating). Incluye tus conclusiones."
   ]
  },
  {
   "cell_type": "code",
   "execution_count": null,
   "metadata": {
    "id": "x6uBleJUC_AU"
   },
   "outputs": [],
   "source": [
    "None"
   ]
  },
  {
   "cell_type": "code",
   "execution_count": null,
   "metadata": {
    "id": "n0P_AcyjC_Dh"
   },
   "outputs": [],
   "source": []
  },
  {
   "cell_type": "markdown",
   "metadata": {
    "id": "lUvqUSV5cd-Z"
   },
   "source": [
    "#**Ejercicio-7.**"
   ]
  },
  {
   "cell_type": "code",
   "execution_count": null,
   "metadata": {
    "id": "TmXidIqtci7D"
   },
   "outputs": [],
   "source": [
    "None"
   ]
  },
  {
   "cell_type": "code",
   "execution_count": null,
   "metadata": {
    "id": "gtaf5rUfcjgX"
   },
   "outputs": [],
   "source": []
  },
  {
   "cell_type": "markdown",
   "metadata": {
    "id": "9h9eDt6fcmBN"
   },
   "source": [
    "#**Ejercicio-8.**"
   ]
  },
  {
   "cell_type": "code",
   "execution_count": null,
   "metadata": {
    "id": "pPkwyHHMcrk0"
   },
   "outputs": [],
   "source": [
    "None"
   ]
  },
  {
   "cell_type": "code",
   "execution_count": null,
   "metadata": {
    "id": "H5Tc3QpEcrfo"
   },
   "outputs": [],
   "source": []
  },
  {
   "cell_type": "markdown",
   "metadata": {
    "id": "7ql_r2G-DB_m"
   },
   "source": [
    "###**Fin de la Actividad de la semana 10 - Sistemas de Recomendación y Reducción de Dimensionalidad con SVD.**"
   ]
  }
 ],
 "metadata": {
  "colab": {
   "collapsed_sections": [],
   "provenance": []
  },
  "kernelspec": {
   "display_name": "Python 3 (ipykernel)",
   "language": "python",
   "name": "python3"
  },
  "language_info": {
   "codemirror_mode": {
    "name": "ipython",
    "version": 3
   },
   "file_extension": ".py",
   "mimetype": "text/x-python",
   "name": "python",
   "nbconvert_exporter": "python",
   "pygments_lexer": "ipython3",
   "version": "3.10.5"
  }
 },
 "nbformat": 4,
 "nbformat_minor": 1
}
